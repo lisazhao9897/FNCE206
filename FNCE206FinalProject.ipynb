{
  "nbformat": 4,
  "nbformat_minor": 0,
  "metadata": {
    "colab": {
      "name": "FNCE206FinalProject.ipynb",
      "provenance": [],
      "collapsed_sections": []
    },
    "kernelspec": {
      "name": "python3",
      "display_name": "Python 3"
    }
  },
  "cells": [
    {
      "cell_type": "code",
      "metadata": {
        "colab": {
          "base_uri": "https://localhost:8080/"
        },
        "id": "dZin98x9KIL-",
        "outputId": "269b1b2d-ffbd-4448-9a21-3f5e5a7346ad"
      },
      "source": [
        "from google.colab import drive\n",
        "drive.mount('/content/drive', force_remount=True)\n",
        "\n",
        "%cd drive/My Drive/Colab Notebooks/ \n",
        "!ls"
      ],
      "execution_count": 1,
      "outputs": [
        {
          "output_type": "stream",
          "text": [
            "Mounted at /content/drive\n",
            "/content/drive/My Drive/Colab Notebooks\n",
            "CIS521\tCIS700\t  cvna.csv\t\t     Prof_Matni\n",
            "CIS680\tCOVID_19  FNCE206FinalProject.ipynb\n"
          ],
          "name": "stdout"
        }
      ]
    },
    {
      "cell_type": "code",
      "metadata": {
        "id": "p7YSPUeDy1PB"
      },
      "source": [
        "import pandas as pd \n",
        "import matplotlib.pyplot as plt\n",
        "import scipy.stats as si\n",
        "import datetime\n",
        "from scipy.stats import norm\n",
        "import numpy as np \n",
        "import math "
      ],
      "execution_count": 2,
      "outputs": []
    },
    {
      "cell_type": "code",
      "metadata": {
        "id": "mOoUo27bt2T5"
      },
      "source": [
        "# parameters: \n",
        "risk_free_rate = 0.0073 "
      ],
      "execution_count": 3,
      "outputs": []
    },
    {
      "cell_type": "markdown",
      "metadata": {
        "id": "LvWc_5LTso6t"
      },
      "source": [
        "## import data"
      ]
    },
    {
      "cell_type": "code",
      "metadata": {
        "colab": {
          "base_uri": "https://localhost:8080/",
          "height": 202
        },
        "id": "HeIW-BA6JxtQ",
        "outputId": "2621daeb-4df5-4fc1-e55e-34efeb6c55bd"
      },
      "source": [
        "cvna_data = pd.read_csv('cvna.csv')\n",
        "cvna_data.head()"
      ],
      "execution_count": 4,
      "outputs": [
        {
          "output_type": "execute_result",
          "data": {
            "text/html": [
              "<div>\n",
              "<style scoped>\n",
              "    .dataframe tbody tr th:only-of-type {\n",
              "        vertical-align: middle;\n",
              "    }\n",
              "\n",
              "    .dataframe tbody tr th {\n",
              "        vertical-align: top;\n",
              "    }\n",
              "\n",
              "    .dataframe thead th {\n",
              "        text-align: right;\n",
              "    }\n",
              "</style>\n",
              "<table border=\"1\" class=\"dataframe\">\n",
              "  <thead>\n",
              "    <tr style=\"text-align: right;\">\n",
              "      <th></th>\n",
              "      <th>tradedate</th>\n",
              "      <th>ticker</th>\n",
              "      <th>stockprice</th>\n",
              "      <th>expiration</th>\n",
              "      <th>lastpricecall</th>\n",
              "      <th>callvolume</th>\n",
              "      <th>callopeninterest</th>\n",
              "      <th>strike</th>\n",
              "      <th>lastpriceput</th>\n",
              "      <th>putvolume</th>\n",
              "      <th>putopeninterest</th>\n",
              "    </tr>\n",
              "  </thead>\n",
              "  <tbody>\n",
              "    <tr>\n",
              "      <th>0</th>\n",
              "      <td>2020-10-01</td>\n",
              "      <td>CVNA</td>\n",
              "      <td>237.71</td>\n",
              "      <td>2020-10-16</td>\n",
              "      <td>0.0</td>\n",
              "      <td>0</td>\n",
              "      <td>0</td>\n",
              "      <td>85.0</td>\n",
              "      <td>0.00</td>\n",
              "      <td>0</td>\n",
              "      <td>52</td>\n",
              "    </tr>\n",
              "    <tr>\n",
              "      <th>1</th>\n",
              "      <td>2020-10-01</td>\n",
              "      <td>CVNA</td>\n",
              "      <td>237.71</td>\n",
              "      <td>2020-10-16</td>\n",
              "      <td>0.0</td>\n",
              "      <td>0</td>\n",
              "      <td>0</td>\n",
              "      <td>90.0</td>\n",
              "      <td>0.07</td>\n",
              "      <td>30</td>\n",
              "      <td>254</td>\n",
              "    </tr>\n",
              "    <tr>\n",
              "      <th>2</th>\n",
              "      <td>2020-10-01</td>\n",
              "      <td>CVNA</td>\n",
              "      <td>237.71</td>\n",
              "      <td>2020-10-16</td>\n",
              "      <td>0.0</td>\n",
              "      <td>0</td>\n",
              "      <td>0</td>\n",
              "      <td>95.0</td>\n",
              "      <td>0.00</td>\n",
              "      <td>0</td>\n",
              "      <td>22</td>\n",
              "    </tr>\n",
              "    <tr>\n",
              "      <th>3</th>\n",
              "      <td>2020-10-01</td>\n",
              "      <td>CVNA</td>\n",
              "      <td>237.71</td>\n",
              "      <td>2020-10-16</td>\n",
              "      <td>0.0</td>\n",
              "      <td>0</td>\n",
              "      <td>0</td>\n",
              "      <td>100.0</td>\n",
              "      <td>0.00</td>\n",
              "      <td>0</td>\n",
              "      <td>127</td>\n",
              "    </tr>\n",
              "    <tr>\n",
              "      <th>4</th>\n",
              "      <td>2020-10-01</td>\n",
              "      <td>CVNA</td>\n",
              "      <td>237.71</td>\n",
              "      <td>2020-10-16</td>\n",
              "      <td>0.0</td>\n",
              "      <td>0</td>\n",
              "      <td>0</td>\n",
              "      <td>105.0</td>\n",
              "      <td>0.00</td>\n",
              "      <td>0</td>\n",
              "      <td>42</td>\n",
              "    </tr>\n",
              "  </tbody>\n",
              "</table>\n",
              "</div>"
            ],
            "text/plain": [
              "    tradedate ticker  stockprice  ... lastpriceput  putvolume  putopeninterest\n",
              "0  2020-10-01   CVNA      237.71  ...         0.00          0               52\n",
              "1  2020-10-01   CVNA      237.71  ...         0.07         30              254\n",
              "2  2020-10-01   CVNA      237.71  ...         0.00          0               22\n",
              "3  2020-10-01   CVNA      237.71  ...         0.00          0              127\n",
              "4  2020-10-01   CVNA      237.71  ...         0.00          0               42\n",
              "\n",
              "[5 rows x 11 columns]"
            ]
          },
          "metadata": {
            "tags": []
          },
          "execution_count": 4
        }
      ]
    },
    {
      "cell_type": "code",
      "metadata": {
        "colab": {
          "base_uri": "https://localhost:8080/",
          "height": 202
        },
        "id": "EGVuLk07Ktuo",
        "outputId": "3fc7d41e-1f2a-4b44-debf-458969934b4c"
      },
      "source": [
        "cvna_data['tradedate']= pd.to_datetime(cvna_data['tradedate'])\n",
        "cvna_data['expiration']= pd.to_datetime(cvna_data['expiration'])\n",
        "cvna_data = cvna_data.drop(columns=['ticker', 'callopeninterest','putopeninterest'])\n",
        "cvna_data.head()"
      ],
      "execution_count": 5,
      "outputs": [
        {
          "output_type": "execute_result",
          "data": {
            "text/html": [
              "<div>\n",
              "<style scoped>\n",
              "    .dataframe tbody tr th:only-of-type {\n",
              "        vertical-align: middle;\n",
              "    }\n",
              "\n",
              "    .dataframe tbody tr th {\n",
              "        vertical-align: top;\n",
              "    }\n",
              "\n",
              "    .dataframe thead th {\n",
              "        text-align: right;\n",
              "    }\n",
              "</style>\n",
              "<table border=\"1\" class=\"dataframe\">\n",
              "  <thead>\n",
              "    <tr style=\"text-align: right;\">\n",
              "      <th></th>\n",
              "      <th>tradedate</th>\n",
              "      <th>stockprice</th>\n",
              "      <th>expiration</th>\n",
              "      <th>lastpricecall</th>\n",
              "      <th>callvolume</th>\n",
              "      <th>strike</th>\n",
              "      <th>lastpriceput</th>\n",
              "      <th>putvolume</th>\n",
              "    </tr>\n",
              "  </thead>\n",
              "  <tbody>\n",
              "    <tr>\n",
              "      <th>0</th>\n",
              "      <td>2020-10-01</td>\n",
              "      <td>237.71</td>\n",
              "      <td>2020-10-16</td>\n",
              "      <td>0.0</td>\n",
              "      <td>0</td>\n",
              "      <td>85.0</td>\n",
              "      <td>0.00</td>\n",
              "      <td>0</td>\n",
              "    </tr>\n",
              "    <tr>\n",
              "      <th>1</th>\n",
              "      <td>2020-10-01</td>\n",
              "      <td>237.71</td>\n",
              "      <td>2020-10-16</td>\n",
              "      <td>0.0</td>\n",
              "      <td>0</td>\n",
              "      <td>90.0</td>\n",
              "      <td>0.07</td>\n",
              "      <td>30</td>\n",
              "    </tr>\n",
              "    <tr>\n",
              "      <th>2</th>\n",
              "      <td>2020-10-01</td>\n",
              "      <td>237.71</td>\n",
              "      <td>2020-10-16</td>\n",
              "      <td>0.0</td>\n",
              "      <td>0</td>\n",
              "      <td>95.0</td>\n",
              "      <td>0.00</td>\n",
              "      <td>0</td>\n",
              "    </tr>\n",
              "    <tr>\n",
              "      <th>3</th>\n",
              "      <td>2020-10-01</td>\n",
              "      <td>237.71</td>\n",
              "      <td>2020-10-16</td>\n",
              "      <td>0.0</td>\n",
              "      <td>0</td>\n",
              "      <td>100.0</td>\n",
              "      <td>0.00</td>\n",
              "      <td>0</td>\n",
              "    </tr>\n",
              "    <tr>\n",
              "      <th>4</th>\n",
              "      <td>2020-10-01</td>\n",
              "      <td>237.71</td>\n",
              "      <td>2020-10-16</td>\n",
              "      <td>0.0</td>\n",
              "      <td>0</td>\n",
              "      <td>105.0</td>\n",
              "      <td>0.00</td>\n",
              "      <td>0</td>\n",
              "    </tr>\n",
              "  </tbody>\n",
              "</table>\n",
              "</div>"
            ],
            "text/plain": [
              "   tradedate  stockprice expiration  ...  strike  lastpriceput  putvolume\n",
              "0 2020-10-01      237.71 2020-10-16  ...    85.0          0.00          0\n",
              "1 2020-10-01      237.71 2020-10-16  ...    90.0          0.07         30\n",
              "2 2020-10-01      237.71 2020-10-16  ...    95.0          0.00          0\n",
              "3 2020-10-01      237.71 2020-10-16  ...   100.0          0.00          0\n",
              "4 2020-10-01      237.71 2020-10-16  ...   105.0          0.00          0\n",
              "\n",
              "[5 rows x 8 columns]"
            ]
          },
          "metadata": {
            "tags": []
          },
          "execution_count": 5
        }
      ]
    },
    {
      "cell_type": "markdown",
      "metadata": {
        "id": "I6kakf3zQTG-"
      },
      "source": [
        "## Choose the two expiry dates "
      ]
    },
    {
      "cell_type": "code",
      "metadata": {
        "colab": {
          "base_uri": "https://localhost:8080/",
          "height": 257
        },
        "id": "RBLw7moaLOmv",
        "outputId": "e1e24714-e62e-4a6b-a029-ac8e4268e19c"
      },
      "source": [
        "# cvna_data.groupby(cvna_data.expiration)\n",
        "start_date = '2021-01-01 00:00:00'\n",
        "agg_vols_by_expiry = cvna_data.groupby(['expiration'])[\"callvolume\", \"putvolume\"].apply(lambda x : x.sum()).reset_index()\n",
        "agg_vols_by_expiry['allvolume'] = agg_vols_by_expiry.callvolume + agg_vols_by_expiry.putvolume\n",
        "agg_vols_by_expiry = agg_vols_by_expiry.loc[agg_vols_by_expiry['expiration'] >= start_date]\n",
        "agg_vols_by_expiry.sort_values(by = 'allvolume', ascending = False,inplace = True)\n",
        "agg_vols_by_expiry.head()"
      ],
      "execution_count": 6,
      "outputs": [
        {
          "output_type": "stream",
          "text": [
            "/usr/local/lib/python3.6/dist-packages/ipykernel_launcher.py:3: FutureWarning: Indexing with multiple keys (implicitly converted to a tuple of keys) will be deprecated, use a list instead.\n",
            "  This is separate from the ipykernel package so we can avoid doing imports until\n"
          ],
          "name": "stderr"
        },
        {
          "output_type": "execute_result",
          "data": {
            "text/html": [
              "<div>\n",
              "<style scoped>\n",
              "    .dataframe tbody tr th:only-of-type {\n",
              "        vertical-align: middle;\n",
              "    }\n",
              "\n",
              "    .dataframe tbody tr th {\n",
              "        vertical-align: top;\n",
              "    }\n",
              "\n",
              "    .dataframe thead th {\n",
              "        text-align: right;\n",
              "    }\n",
              "</style>\n",
              "<table border=\"1\" class=\"dataframe\">\n",
              "  <thead>\n",
              "    <tr style=\"text-align: right;\">\n",
              "      <th></th>\n",
              "      <th>expiration</th>\n",
              "      <th>callvolume</th>\n",
              "      <th>putvolume</th>\n",
              "      <th>allvolume</th>\n",
              "    </tr>\n",
              "  </thead>\n",
              "  <tbody>\n",
              "    <tr>\n",
              "      <th>14</th>\n",
              "      <td>2021-01-15</td>\n",
              "      <td>12139</td>\n",
              "      <td>19875</td>\n",
              "      <td>32014</td>\n",
              "    </tr>\n",
              "    <tr>\n",
              "      <th>16</th>\n",
              "      <td>2021-05-21</td>\n",
              "      <td>19424</td>\n",
              "      <td>5666</td>\n",
              "      <td>25090</td>\n",
              "    </tr>\n",
              "    <tr>\n",
              "      <th>15</th>\n",
              "      <td>2021-02-19</td>\n",
              "      <td>3251</td>\n",
              "      <td>5607</td>\n",
              "      <td>8858</td>\n",
              "    </tr>\n",
              "    <tr>\n",
              "      <th>17</th>\n",
              "      <td>2022-01-21</td>\n",
              "      <td>1298</td>\n",
              "      <td>790</td>\n",
              "      <td>2088</td>\n",
              "    </tr>\n",
              "    <tr>\n",
              "      <th>18</th>\n",
              "      <td>2023-01-20</td>\n",
              "      <td>106</td>\n",
              "      <td>28</td>\n",
              "      <td>134</td>\n",
              "    </tr>\n",
              "  </tbody>\n",
              "</table>\n",
              "</div>"
            ],
            "text/plain": [
              "   expiration  callvolume  putvolume  allvolume\n",
              "14 2021-01-15       12139      19875      32014\n",
              "16 2021-05-21       19424       5666      25090\n",
              "15 2021-02-19        3251       5607       8858\n",
              "17 2022-01-21        1298        790       2088\n",
              "18 2023-01-20         106         28        134"
            ]
          },
          "metadata": {
            "tags": []
          },
          "execution_count": 6
        }
      ]
    },
    {
      "cell_type": "code",
      "metadata": {
        "colab": {
          "base_uri": "https://localhost:8080/",
          "height": 220
        },
        "id": "sa91VjqXMMjg",
        "outputId": "add86fae-e6d4-4403-d0b5-da28fbd7d5ac"
      },
      "source": [
        "expiry_date_1 = list(agg_vols_by_expiry.expiration)[0]  \n",
        "expiry_date_2 = list(agg_vols_by_expiry.expiration)[1]  \n",
        "\n",
        "cvna_expiry_date_1 = cvna_data[cvna_data.expiration == expiry_date_1]\n",
        "print('len(cvna_expiry_date_1), ', len(cvna_expiry_date_1))\n",
        "cvna_expiry_date_1.head() "
      ],
      "execution_count": 7,
      "outputs": [
        {
          "output_type": "stream",
          "text": [
            "len(cvna_expiry_date_1),  2033\n"
          ],
          "name": "stdout"
        },
        {
          "output_type": "execute_result",
          "data": {
            "text/html": [
              "<div>\n",
              "<style scoped>\n",
              "    .dataframe tbody tr th:only-of-type {\n",
              "        vertical-align: middle;\n",
              "    }\n",
              "\n",
              "    .dataframe tbody tr th {\n",
              "        vertical-align: top;\n",
              "    }\n",
              "\n",
              "    .dataframe thead th {\n",
              "        text-align: right;\n",
              "    }\n",
              "</style>\n",
              "<table border=\"1\" class=\"dataframe\">\n",
              "  <thead>\n",
              "    <tr style=\"text-align: right;\">\n",
              "      <th></th>\n",
              "      <th>tradedate</th>\n",
              "      <th>stockprice</th>\n",
              "      <th>expiration</th>\n",
              "      <th>lastpricecall</th>\n",
              "      <th>callvolume</th>\n",
              "      <th>strike</th>\n",
              "      <th>lastpriceput</th>\n",
              "      <th>putvolume</th>\n",
              "    </tr>\n",
              "  </thead>\n",
              "  <tbody>\n",
              "    <tr>\n",
              "      <th>373</th>\n",
              "      <td>2020-10-01</td>\n",
              "      <td>237.71</td>\n",
              "      <td>2021-01-15</td>\n",
              "      <td>0.0</td>\n",
              "      <td>0</td>\n",
              "      <td>15.0</td>\n",
              "      <td>0.08</td>\n",
              "      <td>3</td>\n",
              "    </tr>\n",
              "    <tr>\n",
              "      <th>374</th>\n",
              "      <td>2020-10-01</td>\n",
              "      <td>237.71</td>\n",
              "      <td>2021-01-15</td>\n",
              "      <td>0.0</td>\n",
              "      <td>0</td>\n",
              "      <td>18.0</td>\n",
              "      <td>0.00</td>\n",
              "      <td>0</td>\n",
              "    </tr>\n",
              "    <tr>\n",
              "      <th>375</th>\n",
              "      <td>2020-10-01</td>\n",
              "      <td>237.71</td>\n",
              "      <td>2021-01-15</td>\n",
              "      <td>0.0</td>\n",
              "      <td>0</td>\n",
              "      <td>20.0</td>\n",
              "      <td>0.00</td>\n",
              "      <td>0</td>\n",
              "    </tr>\n",
              "    <tr>\n",
              "      <th>376</th>\n",
              "      <td>2020-10-01</td>\n",
              "      <td>237.71</td>\n",
              "      <td>2021-01-15</td>\n",
              "      <td>0.0</td>\n",
              "      <td>0</td>\n",
              "      <td>23.0</td>\n",
              "      <td>0.19</td>\n",
              "      <td>1</td>\n",
              "    </tr>\n",
              "    <tr>\n",
              "      <th>377</th>\n",
              "      <td>2020-10-01</td>\n",
              "      <td>237.71</td>\n",
              "      <td>2021-01-15</td>\n",
              "      <td>0.0</td>\n",
              "      <td>0</td>\n",
              "      <td>25.0</td>\n",
              "      <td>0.00</td>\n",
              "      <td>0</td>\n",
              "    </tr>\n",
              "  </tbody>\n",
              "</table>\n",
              "</div>"
            ],
            "text/plain": [
              "     tradedate  stockprice expiration  ...  strike  lastpriceput  putvolume\n",
              "373 2020-10-01      237.71 2021-01-15  ...    15.0          0.08          3\n",
              "374 2020-10-01      237.71 2021-01-15  ...    18.0          0.00          0\n",
              "375 2020-10-01      237.71 2021-01-15  ...    20.0          0.00          0\n",
              "376 2020-10-01      237.71 2021-01-15  ...    23.0          0.19          1\n",
              "377 2020-10-01      237.71 2021-01-15  ...    25.0          0.00          0\n",
              "\n",
              "[5 rows x 8 columns]"
            ]
          },
          "metadata": {
            "tags": []
          },
          "execution_count": 7
        }
      ]
    },
    {
      "cell_type": "code",
      "metadata": {
        "colab": {
          "base_uri": "https://localhost:8080/",
          "height": 220
        },
        "id": "e7JZqPN_Pxpq",
        "outputId": "2aa27c89-9708-4c48-c7af-a5fec9dcc905"
      },
      "source": [
        "cvna_expiry_date_2 = cvna_data[cvna_data.expiration == expiry_date_2]\n",
        "print('len(cvna_expiry_date_2), ', len(cvna_expiry_date_2))\n",
        "cvna_expiry_date_2.head() "
      ],
      "execution_count": 8,
      "outputs": [
        {
          "output_type": "stream",
          "text": [
            "len(cvna_expiry_date_2),  1443\n"
          ],
          "name": "stdout"
        },
        {
          "output_type": "execute_result",
          "data": {
            "text/html": [
              "<div>\n",
              "<style scoped>\n",
              "    .dataframe tbody tr th:only-of-type {\n",
              "        vertical-align: middle;\n",
              "    }\n",
              "\n",
              "    .dataframe tbody tr th {\n",
              "        vertical-align: top;\n",
              "    }\n",
              "\n",
              "    .dataframe thead th {\n",
              "        text-align: right;\n",
              "    }\n",
              "</style>\n",
              "<table border=\"1\" class=\"dataframe\">\n",
              "  <thead>\n",
              "    <tr style=\"text-align: right;\">\n",
              "      <th></th>\n",
              "      <th>tradedate</th>\n",
              "      <th>stockprice</th>\n",
              "      <th>expiration</th>\n",
              "      <th>lastpricecall</th>\n",
              "      <th>callvolume</th>\n",
              "      <th>strike</th>\n",
              "      <th>lastpriceput</th>\n",
              "      <th>putvolume</th>\n",
              "    </tr>\n",
              "  </thead>\n",
              "  <tbody>\n",
              "    <tr>\n",
              "      <th>678</th>\n",
              "      <td>2020-10-01</td>\n",
              "      <td>237.71</td>\n",
              "      <td>2021-05-21</td>\n",
              "      <td>0.0</td>\n",
              "      <td>0</td>\n",
              "      <td>85.0</td>\n",
              "      <td>4.6</td>\n",
              "      <td>1</td>\n",
              "    </tr>\n",
              "    <tr>\n",
              "      <th>679</th>\n",
              "      <td>2020-10-01</td>\n",
              "      <td>237.71</td>\n",
              "      <td>2021-05-21</td>\n",
              "      <td>0.0</td>\n",
              "      <td>0</td>\n",
              "      <td>90.0</td>\n",
              "      <td>0.0</td>\n",
              "      <td>0</td>\n",
              "    </tr>\n",
              "    <tr>\n",
              "      <th>680</th>\n",
              "      <td>2020-10-01</td>\n",
              "      <td>237.71</td>\n",
              "      <td>2021-05-21</td>\n",
              "      <td>0.0</td>\n",
              "      <td>0</td>\n",
              "      <td>95.0</td>\n",
              "      <td>0.0</td>\n",
              "      <td>0</td>\n",
              "    </tr>\n",
              "    <tr>\n",
              "      <th>681</th>\n",
              "      <td>2020-10-01</td>\n",
              "      <td>237.71</td>\n",
              "      <td>2021-05-21</td>\n",
              "      <td>0.0</td>\n",
              "      <td>0</td>\n",
              "      <td>100.0</td>\n",
              "      <td>0.0</td>\n",
              "      <td>0</td>\n",
              "    </tr>\n",
              "    <tr>\n",
              "      <th>682</th>\n",
              "      <td>2020-10-01</td>\n",
              "      <td>237.71</td>\n",
              "      <td>2021-05-21</td>\n",
              "      <td>0.0</td>\n",
              "      <td>0</td>\n",
              "      <td>105.0</td>\n",
              "      <td>0.0</td>\n",
              "      <td>0</td>\n",
              "    </tr>\n",
              "  </tbody>\n",
              "</table>\n",
              "</div>"
            ],
            "text/plain": [
              "     tradedate  stockprice expiration  ...  strike  lastpriceput  putvolume\n",
              "678 2020-10-01      237.71 2021-05-21  ...    85.0           4.6          1\n",
              "679 2020-10-01      237.71 2021-05-21  ...    90.0           0.0          0\n",
              "680 2020-10-01      237.71 2021-05-21  ...    95.0           0.0          0\n",
              "681 2020-10-01      237.71 2021-05-21  ...   100.0           0.0          0\n",
              "682 2020-10-01      237.71 2021-05-21  ...   105.0           0.0          0\n",
              "\n",
              "[5 rows x 8 columns]"
            ]
          },
          "metadata": {
            "tags": []
          },
          "execution_count": 8
        }
      ]
    },
    {
      "cell_type": "markdown",
      "metadata": {
        "id": "WVkDoRrsQQKN"
      },
      "source": [
        "## Get prelim data"
      ]
    },
    {
      "cell_type": "code",
      "metadata": {
        "id": "2yVYK59ZpsBm"
      },
      "source": [
        "# change here for the two expiry dates \n",
        "data = cvna_expiry_date_1\n",
        "expiry_date = expiry_date_1"
      ],
      "execution_count": 9,
      "outputs": []
    },
    {
      "cell_type": "code",
      "metadata": {
        "colab": {
          "base_uri": "https://localhost:8080/"
        },
        "id": "k_NAEPxqKvFn",
        "outputId": "4c998e62-7ed6-4dfc-b45c-79fda16a7c5c"
      },
      "source": [
        "prelim_start_date = '2020-10-01 00:00:00'\n",
        "prelim_end_date = '2020-10-13 00:00:00'\n",
        "prelim_data = data.loc[(data['tradedate'] >= prelim_start_date) & (data['tradedate'] <= prelim_end_date)]\n",
        "print('len(prelim_data)', len(prelim_data))"
      ],
      "execution_count": 10,
      "outputs": [
        {
          "output_type": "stream",
          "text": [
            "len(prelim_data) 493\n"
          ],
          "name": "stdout"
        }
      ]
    },
    {
      "cell_type": "code",
      "metadata": {
        "colab": {
          "base_uri": "https://localhost:8080/",
          "height": 668
        },
        "id": "tSIlYa_fQBZh",
        "outputId": "fd4e9b80-c96a-4158-d15a-8824da100f93"
      },
      "source": [
        "prelim_data['abs_strike_minus_stock'] = abs(prelim_data.strike - prelim_data.stockprice)\n",
        "prelim_data['days_til_expiration'] = (prelim_data.expiration - prelim_data.tradedate).dt.components.days\n",
        "prelim_data['years_til_expiration'] = prelim_data.days_til_expiration / 365\n",
        "temp = prelim_data[prelim_data['abs_strike_minus_stock'].isin(prelim_data.groupby('tradedate').min()['abs_strike_minus_stock'].values)]\n",
        "temp"
      ],
      "execution_count": 11,
      "outputs": [
        {
          "output_type": "stream",
          "text": [
            "/usr/local/lib/python3.6/dist-packages/ipykernel_launcher.py:1: SettingWithCopyWarning: \n",
            "A value is trying to be set on a copy of a slice from a DataFrame.\n",
            "Try using .loc[row_indexer,col_indexer] = value instead\n",
            "\n",
            "See the caveats in the documentation: https://pandas.pydata.org/pandas-docs/stable/user_guide/indexing.html#returning-a-view-versus-a-copy\n",
            "  \"\"\"Entry point for launching an IPython kernel.\n",
            "/usr/local/lib/python3.6/dist-packages/ipykernel_launcher.py:2: SettingWithCopyWarning: \n",
            "A value is trying to be set on a copy of a slice from a DataFrame.\n",
            "Try using .loc[row_indexer,col_indexer] = value instead\n",
            "\n",
            "See the caveats in the documentation: https://pandas.pydata.org/pandas-docs/stable/user_guide/indexing.html#returning-a-view-versus-a-copy\n",
            "  \n",
            "/usr/local/lib/python3.6/dist-packages/ipykernel_launcher.py:3: SettingWithCopyWarning: \n",
            "A value is trying to be set on a copy of a slice from a DataFrame.\n",
            "Try using .loc[row_indexer,col_indexer] = value instead\n",
            "\n",
            "See the caveats in the documentation: https://pandas.pydata.org/pandas-docs/stable/user_guide/indexing.html#returning-a-view-versus-a-copy\n",
            "  This is separate from the ipykernel package so we can avoid doing imports until\n"
          ],
          "name": "stderr"
        },
        {
          "output_type": "execute_result",
          "data": {
            "text/html": [
              "<div>\n",
              "<style scoped>\n",
              "    .dataframe tbody tr th:only-of-type {\n",
              "        vertical-align: middle;\n",
              "    }\n",
              "\n",
              "    .dataframe tbody tr th {\n",
              "        vertical-align: top;\n",
              "    }\n",
              "\n",
              "    .dataframe thead th {\n",
              "        text-align: right;\n",
              "    }\n",
              "</style>\n",
              "<table border=\"1\" class=\"dataframe\">\n",
              "  <thead>\n",
              "    <tr style=\"text-align: right;\">\n",
              "      <th></th>\n",
              "      <th>tradedate</th>\n",
              "      <th>stockprice</th>\n",
              "      <th>expiration</th>\n",
              "      <th>lastpricecall</th>\n",
              "      <th>callvolume</th>\n",
              "      <th>strike</th>\n",
              "      <th>lastpriceput</th>\n",
              "      <th>putvolume</th>\n",
              "      <th>abs_strike_minus_stock</th>\n",
              "      <th>days_til_expiration</th>\n",
              "      <th>years_til_expiration</th>\n",
              "    </tr>\n",
              "  </thead>\n",
              "  <tbody>\n",
              "    <tr>\n",
              "      <th>416</th>\n",
              "      <td>2020-10-01</td>\n",
              "      <td>237.71</td>\n",
              "      <td>2021-01-15</td>\n",
              "      <td>36.80</td>\n",
              "      <td>10</td>\n",
              "      <td>240.0</td>\n",
              "      <td>41.20</td>\n",
              "      <td>22</td>\n",
              "      <td>2.29</td>\n",
              "      <td>106</td>\n",
              "      <td>0.290411</td>\n",
              "    </tr>\n",
              "    <tr>\n",
              "      <th>1320</th>\n",
              "      <td>2020-10-02</td>\n",
              "      <td>222.60</td>\n",
              "      <td>2021-01-15</td>\n",
              "      <td>40.15</td>\n",
              "      <td>47</td>\n",
              "      <td>220.0</td>\n",
              "      <td>42.05</td>\n",
              "      <td>33</td>\n",
              "      <td>2.60</td>\n",
              "      <td>105</td>\n",
              "      <td>0.287671</td>\n",
              "    </tr>\n",
              "    <tr>\n",
              "      <th>2152</th>\n",
              "      <td>2020-10-05</td>\n",
              "      <td>225.00</td>\n",
              "      <td>2021-01-15</td>\n",
              "      <td>43.50</td>\n",
              "      <td>5</td>\n",
              "      <td>220.0</td>\n",
              "      <td>36.50</td>\n",
              "      <td>7</td>\n",
              "      <td>5.00</td>\n",
              "      <td>102</td>\n",
              "      <td>0.279452</td>\n",
              "    </tr>\n",
              "    <tr>\n",
              "      <th>2153</th>\n",
              "      <td>2020-10-05</td>\n",
              "      <td>225.00</td>\n",
              "      <td>2021-01-15</td>\n",
              "      <td>38.95</td>\n",
              "      <td>19</td>\n",
              "      <td>230.0</td>\n",
              "      <td>41.85</td>\n",
              "      <td>51</td>\n",
              "      <td>5.00</td>\n",
              "      <td>102</td>\n",
              "      <td>0.279452</td>\n",
              "    </tr>\n",
              "    <tr>\n",
              "      <th>2264</th>\n",
              "      <td>2020-10-06</td>\n",
              "      <td>214.54</td>\n",
              "      <td>2021-01-15</td>\n",
              "      <td>0.00</td>\n",
              "      <td>0</td>\n",
              "      <td>210.0</td>\n",
              "      <td>34.30</td>\n",
              "      <td>1</td>\n",
              "      <td>4.54</td>\n",
              "      <td>101</td>\n",
              "      <td>0.276712</td>\n",
              "    </tr>\n",
              "    <tr>\n",
              "      <th>3136</th>\n",
              "      <td>2020-10-07</td>\n",
              "      <td>216.96</td>\n",
              "      <td>2021-01-15</td>\n",
              "      <td>0.00</td>\n",
              "      <td>0</td>\n",
              "      <td>220.0</td>\n",
              "      <td>37.80</td>\n",
              "      <td>3</td>\n",
              "      <td>3.04</td>\n",
              "      <td>100</td>\n",
              "      <td>0.273973</td>\n",
              "    </tr>\n",
              "    <tr>\n",
              "      <th>4176</th>\n",
              "      <td>2020-10-08</td>\n",
              "      <td>213.99</td>\n",
              "      <td>2021-01-15</td>\n",
              "      <td>37.00</td>\n",
              "      <td>9</td>\n",
              "      <td>210.0</td>\n",
              "      <td>34.00</td>\n",
              "      <td>4</td>\n",
              "      <td>3.99</td>\n",
              "      <td>99</td>\n",
              "      <td>0.271233</td>\n",
              "    </tr>\n",
              "    <tr>\n",
              "      <th>4302</th>\n",
              "      <td>2020-10-09</td>\n",
              "      <td>213.29</td>\n",
              "      <td>2021-01-15</td>\n",
              "      <td>35.80</td>\n",
              "      <td>3</td>\n",
              "      <td>210.0</td>\n",
              "      <td>32.20</td>\n",
              "      <td>1</td>\n",
              "      <td>3.29</td>\n",
              "      <td>98</td>\n",
              "      <td>0.268493</td>\n",
              "    </tr>\n",
              "    <tr>\n",
              "      <th>5231</th>\n",
              "      <td>2020-10-12</td>\n",
              "      <td>209.12</td>\n",
              "      <td>2021-01-15</td>\n",
              "      <td>33.00</td>\n",
              "      <td>4</td>\n",
              "      <td>210.0</td>\n",
              "      <td>32.80</td>\n",
              "      <td>4</td>\n",
              "      <td>0.88</td>\n",
              "      <td>95</td>\n",
              "      <td>0.260274</td>\n",
              "    </tr>\n",
              "    <tr>\n",
              "      <th>5970</th>\n",
              "      <td>2020-10-13</td>\n",
              "      <td>216.77</td>\n",
              "      <td>2021-01-15</td>\n",
              "      <td>33.45</td>\n",
              "      <td>1024</td>\n",
              "      <td>220.0</td>\n",
              "      <td>36.35</td>\n",
              "      <td>1007</td>\n",
              "      <td>3.23</td>\n",
              "      <td>94</td>\n",
              "      <td>0.257534</td>\n",
              "    </tr>\n",
              "  </tbody>\n",
              "</table>\n",
              "</div>"
            ],
            "text/plain": [
              "      tradedate  stockprice  ... days_til_expiration  years_til_expiration\n",
              "416  2020-10-01      237.71  ...                 106              0.290411\n",
              "1320 2020-10-02      222.60  ...                 105              0.287671\n",
              "2152 2020-10-05      225.00  ...                 102              0.279452\n",
              "2153 2020-10-05      225.00  ...                 102              0.279452\n",
              "2264 2020-10-06      214.54  ...                 101              0.276712\n",
              "3136 2020-10-07      216.96  ...                 100              0.273973\n",
              "4176 2020-10-08      213.99  ...                  99              0.271233\n",
              "4302 2020-10-09      213.29  ...                  98              0.268493\n",
              "5231 2020-10-12      209.12  ...                  95              0.260274\n",
              "5970 2020-10-13      216.77  ...                  94              0.257534\n",
              "\n",
              "[10 rows x 11 columns]"
            ]
          },
          "metadata": {
            "tags": []
          },
          "execution_count": 11
        }
      ]
    },
    {
      "cell_type": "markdown",
      "metadata": {
        "id": "LPsVdySzlZwR"
      },
      "source": [
        "## Find IV "
      ]
    },
    {
      "cell_type": "code",
      "metadata": {
        "id": "SaPtmpzQs0Cv"
      },
      "source": [
        "def find_vol(target_value, call_put, S, K, T, r):\n",
        "    MAX_ITERATIONS = 100\n",
        "    PRECISION = 1.0e-5\n",
        "\n",
        "    sigma = 0.5\n",
        "    for i in range(MAX_ITERATIONS):\n",
        "        price = bs_price(call_put, S, K, T, r, sigma)\n",
        "        vega = bs_vega(call_put, S, K, T, r, sigma)\n",
        "\n",
        "        price = price\n",
        "        diff = target_value - price  # our root\n",
        "\n",
        "        # print(i, sigma, diff)\n",
        "\n",
        "        if (abs(diff) < PRECISION):\n",
        "            return sigma\n",
        "        sigma = sigma + diff/vega # f(x) / f'(x)\n",
        "\n",
        "    # value wasn't found, return best guess so far\n",
        "    return sigma\n",
        "\n",
        "n = norm.pdf\n",
        "N = norm.cdf\n",
        "\n",
        "def bs_price(cp_flag,S,K,T,r,v,q=0.0):\n",
        "    d1 = (np.log(S/K)+(r+v*v/2.)*T)/(v*np.sqrt(T))\n",
        "    d2 = d1-v*np.sqrt(T)\n",
        "    if cp_flag == 'c':\n",
        "        price = S*np.exp(-q*T)*N(d1)-K*np.exp(-r*T)*N(d2)\n",
        "    else:\n",
        "        price = K*np.exp(-r*T)*N(-d2)-S*np.exp(-q*T)*N(-d1)\n",
        "    return price\n",
        "\n",
        "def bs_vega(cp_flag,S,K,T,r,v,q=0.0):\n",
        "    d1 = (np.log(S/K)+(r+v*v/2.)*T)/(v*np.sqrt(T))\n",
        "    return S * np.sqrt(T)*n(d1)"
      ],
      "execution_count": 215,
      "outputs": []
    },
    {
      "cell_type": "code",
      "metadata": {
        "colab": {
          "base_uri": "https://localhost:8080/"
        },
        "id": "67SO3v8teW5S",
        "outputId": "b2f8d76e-e506-43e6-80c5-b1a3285327a8"
      },
      "source": [
        "call_IV_holder, put_IV_holder, day_IV_holder, total_vol_per_day = [], [], [], [] \n",
        "for row in range(len(temp)): \n",
        "  print('day: ', list(temp.tradedate)[row])\n",
        "  K = list(temp.strike)[row]\n",
        "  T = list(temp.years_til_expiration)[row]\n",
        "  S = list(temp.stockprice)[row]\n",
        "  r = risk_free_rate \n",
        "  \n",
        "  # call IV \n",
        "  V_market = list(temp.lastpricecall)[row]\n",
        "  cp = 'c' # call option\n",
        "  call_IV = find_vol(V_market, cp, S, K, T, r)\n",
        "  call_IV_holder.append(call_IV)\n",
        "  print('Implied vol: %.2f%%' % (call_IV * 100))\n",
        "\n",
        "  print('Market price = %.2f' % V_market)\n",
        "  print('Model price = %.2f' % bs_price(cp, S, K, T, r, call_IV))\n",
        "\n",
        "  # put IV \n",
        "  V_market = list(temp.lastpriceput)[row]\n",
        "  cp = 'p' # put option\n",
        "  put_IV = find_vol(V_market, cp, S, K, T, r)\n",
        "  put_IV_holder.append(put_IV)\n",
        "  print('Implied vol: %.2f%%' % (put_IV * 100))\n",
        "\n",
        "  print('Market price = %.2f' % V_market)\n",
        "  print('Model price = %.2f' % bs_price(cp, S, K, T, r, put_IV))\n",
        "\n",
        "  call_vol = list(temp.callvolume)[row]\n",
        "  put_vol = list(temp.putvolume)[row]\n",
        "  weighed_IV_today = (call_vol*call_IV+put_vol*put_IV)/(call_vol+put_vol) if call_vol+put_vol else (call_IV+put_IV)/2\n",
        "  day_IV_holder.append(weighed_IV_today)\n",
        "  print('put/call weighed IV: ', weighed_IV_today)\n",
        "  total_vol_per_day.append(call_vol+put_vol)\n",
        "  print('\\n---------------------------------------------\\n')\n",
        "\n",
        "\n",
        "total_weighed_IV = sum([day_IV_holder[i]*total_vol_per_day[i] for i in range(len(temp))]) / sum(total_vol_per_day)\n",
        "print('total weighed IV for ATM option that expires on {} is {}'.format(expiry_date, round(total_weighed_IV,5)))\n",
        "\n",
        "implied_volatility = total_weighed_IV"
      ],
      "execution_count": 216,
      "outputs": [
        {
          "output_type": "stream",
          "text": [
            "day:  2020-10-01 00:00:00\n",
            "Implied vol: 73.95%\n",
            "Market price = 36.80\n",
            "Model price = 36.80\n",
            "Implied vol: 79.16%\n",
            "Market price = 41.20\n",
            "Model price = 41.20\n",
            "put/call weighed IV:  0.7753527441445711\n",
            "\n",
            "---------------------------------------------\n",
            "\n",
            "day:  2020-10-02 00:00:00\n",
            "Implied vol: 82.27%\n",
            "Market price = 40.15\n",
            "Model price = 40.15\n",
            "Implied vol: 93.05%\n",
            "Market price = 42.05\n",
            "Model price = 42.05\n",
            "put/call weighed IV:  0.8671565314047438\n",
            "\n",
            "---------------------------------------------\n",
            "\n",
            "day:  2020-10-05 00:00:00\n",
            "Implied vol: 87.64%\n",
            "Market price = 43.50\n",
            "Model price = 43.50\n",
            "Implied vol: 84.24%\n",
            "Market price = 36.50\n",
            "Model price = 36.50\n",
            "put/call weighed IV:  0.8565932817748063\n",
            "\n",
            "---------------------------------------------\n",
            "\n",
            "day:  2020-10-05 00:00:00\n",
            "Implied vol: 86.67%\n",
            "Market price = 38.95\n",
            "Model price = 38.95\n",
            "Implied vol: 83.17%\n",
            "Market price = 41.85\n",
            "Model price = 41.85\n",
            "put/call weighed IV:  0.8411972234667114\n",
            "\n",
            "---------------------------------------------\n",
            "\n",
            "day:  2020-10-06 00:00:00\n",
            "Implied vol: -1.08%\n",
            "Market price = 0.00\n",
            "Model price = -0.00\n",
            "Implied vol: 83.20%\n",
            "Market price = 34.30\n",
            "Model price = 34.30\n",
            "put/call weighed IV:  0.8319527100426483\n",
            "\n",
            "---------------------------------------------\n",
            "\n",
            "day:  2020-10-07 00:00:00\n",
            "Implied vol: 0.57%\n",
            "Market price = 0.00\n",
            "Model price = 0.00\n",
            "Implied vol: 80.65%\n",
            "Market price = 37.80\n",
            "Model price = 37.80\n",
            "put/call weighed IV:  0.8064855940694499\n",
            "\n",
            "---------------------------------------------\n",
            "\n",
            "day:  2020-10-08 00:00:00\n",
            "Implied vol: 79.55%\n",
            "Market price = 37.00\n",
            "Model price = 37.00\n",
            "Implied vol: 82.82%\n",
            "Market price = 34.00\n",
            "Model price = 34.00\n",
            "put/call weighed IV:  0.8055288111163527\n",
            "\n",
            "---------------------------------------------\n",
            "\n",
            "day:  2020-10-09 00:00:00\n",
            "Implied vol: 78.13%\n",
            "Market price = 35.80\n",
            "Model price = 35.80\n",
            "Implied vol: 78.37%\n",
            "Market price = 32.20\n",
            "Model price = 32.20\n",
            "put/call weighed IV:  0.7819081709477524\n",
            "\n",
            "---------------------------------------------\n",
            "\n",
            "day:  2020-10-12 00:00:00\n",
            "Implied vol: 78.53%\n",
            "Market price = 33.00\n",
            "Model price = 33.00\n",
            "Implied vol: 76.90%\n",
            "Market price = 32.80\n",
            "Model price = 32.80\n",
            "put/call weighed IV:  0.7771522944240188\n",
            "\n",
            "---------------------------------------------\n",
            "\n",
            "day:  2020-10-13 00:00:00\n",
            "Implied vol: 79.41%\n",
            "Market price = 33.45\n",
            "Model price = 33.45\n",
            "Implied vol: 79.60%\n",
            "Market price = 36.35\n",
            "Model price = 36.35\n",
            "put/call weighed IV:  0.7950608466076775\n",
            "\n",
            "---------------------------------------------\n",
            "\n",
            "total weighed IV for ATM option that expires on 2021-01-15 00:00:00 is 0.79911\n"
          ],
          "name": "stdout"
        }
      ]
    },
    {
      "cell_type": "markdown",
      "metadata": {
        "id": "c0raOEMVuAeD"
      },
      "source": [
        "## trading on 10/14"
      ]
    },
    {
      "cell_type": "code",
      "metadata": {
        "colab": {
          "base_uri": "https://localhost:8080/",
          "height": 470
        },
        "id": "ZDFbwrlmt-X3",
        "outputId": "224da6e5-0c09-4912-e08e-17f41b27f27f"
      },
      "source": [
        "# first find 3-4 strikes surrounding the stock price on 10/14 \n",
        "stock_price_10_14 = list(data[data.tradedate == '2020-10-14 00:00:00'].stockprice)[0]\n",
        "print('On 10/14, stock price = ', stock_price_10_14)\n",
        "\n",
        "data['abs_strike_minus_stock'] = abs(data.strike - data.stockprice)\n",
        "data['days_til_expiration'] = (data.expiration - data.tradedate).dt.components.days\n",
        "data['years_til_expiration'] = data.days_til_expiration / 365\n",
        "temp_trade = data[data.tradedate == '2020-10-14 00:00:00'].sort_values(by = 'abs_strike_minus_stock').head(3)\n",
        "temp_trade"
      ],
      "execution_count": 224,
      "outputs": [
        {
          "output_type": "stream",
          "text": [
            "On 10/14, stock price =  213.22\n"
          ],
          "name": "stdout"
        },
        {
          "output_type": "stream",
          "text": [
            "/usr/local/lib/python3.6/dist-packages/ipykernel_launcher.py:5: SettingWithCopyWarning: \n",
            "A value is trying to be set on a copy of a slice from a DataFrame.\n",
            "Try using .loc[row_indexer,col_indexer] = value instead\n",
            "\n",
            "See the caveats in the documentation: https://pandas.pydata.org/pandas-docs/stable/user_guide/indexing.html#returning-a-view-versus-a-copy\n",
            "  \"\"\"\n",
            "/usr/local/lib/python3.6/dist-packages/ipykernel_launcher.py:6: SettingWithCopyWarning: \n",
            "A value is trying to be set on a copy of a slice from a DataFrame.\n",
            "Try using .loc[row_indexer,col_indexer] = value instead\n",
            "\n",
            "See the caveats in the documentation: https://pandas.pydata.org/pandas-docs/stable/user_guide/indexing.html#returning-a-view-versus-a-copy\n",
            "  \n",
            "/usr/local/lib/python3.6/dist-packages/ipykernel_launcher.py:7: SettingWithCopyWarning: \n",
            "A value is trying to be set on a copy of a slice from a DataFrame.\n",
            "Try using .loc[row_indexer,col_indexer] = value instead\n",
            "\n",
            "See the caveats in the documentation: https://pandas.pydata.org/pandas-docs/stable/user_guide/indexing.html#returning-a-view-versus-a-copy\n",
            "  import sys\n"
          ],
          "name": "stderr"
        },
        {
          "output_type": "execute_result",
          "data": {
            "text/html": [
              "<div>\n",
              "<style scoped>\n",
              "    .dataframe tbody tr th:only-of-type {\n",
              "        vertical-align: middle;\n",
              "    }\n",
              "\n",
              "    .dataframe tbody tr th {\n",
              "        vertical-align: top;\n",
              "    }\n",
              "\n",
              "    .dataframe thead th {\n",
              "        text-align: right;\n",
              "    }\n",
              "</style>\n",
              "<table border=\"1\" class=\"dataframe\">\n",
              "  <thead>\n",
              "    <tr style=\"text-align: right;\">\n",
              "      <th></th>\n",
              "      <th>tradedate</th>\n",
              "      <th>stockprice</th>\n",
              "      <th>expiration</th>\n",
              "      <th>lastpricecall</th>\n",
              "      <th>callvolume</th>\n",
              "      <th>strike</th>\n",
              "      <th>lastpriceput</th>\n",
              "      <th>putvolume</th>\n",
              "      <th>abs_strike_minus_stock</th>\n",
              "      <th>days_til_expiration</th>\n",
              "      <th>years_til_expiration</th>\n",
              "    </tr>\n",
              "  </thead>\n",
              "  <tbody>\n",
              "    <tr>\n",
              "      <th>7034</th>\n",
              "      <td>2020-10-14</td>\n",
              "      <td>213.22</td>\n",
              "      <td>2021-01-15</td>\n",
              "      <td>31.67</td>\n",
              "      <td>7</td>\n",
              "      <td>210.0</td>\n",
              "      <td>32.36</td>\n",
              "      <td>4</td>\n",
              "      <td>3.22</td>\n",
              "      <td>93</td>\n",
              "      <td>0.254795</td>\n",
              "    </tr>\n",
              "    <tr>\n",
              "      <th>7035</th>\n",
              "      <td>2020-10-14</td>\n",
              "      <td>213.22</td>\n",
              "      <td>2021-01-15</td>\n",
              "      <td>30.00</td>\n",
              "      <td>10</td>\n",
              "      <td>220.0</td>\n",
              "      <td>36.00</td>\n",
              "      <td>4</td>\n",
              "      <td>6.78</td>\n",
              "      <td>93</td>\n",
              "      <td>0.254795</td>\n",
              "    </tr>\n",
              "    <tr>\n",
              "      <th>7033</th>\n",
              "      <td>2020-10-14</td>\n",
              "      <td>213.22</td>\n",
              "      <td>2021-01-15</td>\n",
              "      <td>36.00</td>\n",
              "      <td>1</td>\n",
              "      <td>200.0</td>\n",
              "      <td>26.17</td>\n",
              "      <td>4</td>\n",
              "      <td>13.22</td>\n",
              "      <td>93</td>\n",
              "      <td>0.254795</td>\n",
              "    </tr>\n",
              "  </tbody>\n",
              "</table>\n",
              "</div>"
            ],
            "text/plain": [
              "      tradedate  stockprice  ... days_til_expiration  years_til_expiration\n",
              "7034 2020-10-14      213.22  ...                  93              0.254795\n",
              "7035 2020-10-14      213.22  ...                  93              0.254795\n",
              "7033 2020-10-14      213.22  ...                  93              0.254795\n",
              "\n",
              "[3 rows x 11 columns]"
            ]
          },
          "metadata": {
            "tags": []
          },
          "execution_count": 224
        }
      ]
    },
    {
      "cell_type": "code",
      "metadata": {
        "colab": {
          "base_uri": "https://localhost:8080/",
          "height": 161
        },
        "id": "8531_imMyOVG",
        "outputId": "b253761a-acd6-401f-d2a2-a60bdace3b24"
      },
      "source": [
        "def compute_fair_price_call(row): \n",
        "  S = row.stockprice \n",
        "  K = row.strike \n",
        "  cp='c'\n",
        "  T = row.years_til_expiration\n",
        "  fair_price = bs_price(cp, S, K, T, risk_free_rate, implied_volatility)\n",
        "  return fair_price\n",
        "\n",
        "def compute_fair_price_put(row): \n",
        "  S = row.stockprice \n",
        "  K = row.strike \n",
        "  cp='p'\n",
        "  T = row.years_til_expiration\n",
        "  fair_price = bs_price(cp, S, K, T, risk_free_rate, implied_volatility)\n",
        "  return fair_price\n",
        "\n",
        "temp_trade['fair_price_call'] = temp_trade.apply(compute_fair_price_call,axis=1)\n",
        "temp_trade['fair_price_put'] = temp_trade.apply(compute_fair_price_put,axis=1)\n",
        "temp_trade['call_is_u_p'] = temp_trade.lastpricecall < temp_trade.fair_price_call\n",
        "temp_trade['put_is_u_p'] = temp_trade.lastpriceput < temp_trade.fair_price_put\n",
        "temp_trade.head()"
      ],
      "execution_count": 225,
      "outputs": [
        {
          "output_type": "execute_result",
          "data": {
            "text/html": [
              "<div>\n",
              "<style scoped>\n",
              "    .dataframe tbody tr th:only-of-type {\n",
              "        vertical-align: middle;\n",
              "    }\n",
              "\n",
              "    .dataframe tbody tr th {\n",
              "        vertical-align: top;\n",
              "    }\n",
              "\n",
              "    .dataframe thead th {\n",
              "        text-align: right;\n",
              "    }\n",
              "</style>\n",
              "<table border=\"1\" class=\"dataframe\">\n",
              "  <thead>\n",
              "    <tr style=\"text-align: right;\">\n",
              "      <th></th>\n",
              "      <th>tradedate</th>\n",
              "      <th>stockprice</th>\n",
              "      <th>expiration</th>\n",
              "      <th>lastpricecall</th>\n",
              "      <th>callvolume</th>\n",
              "      <th>strike</th>\n",
              "      <th>lastpriceput</th>\n",
              "      <th>putvolume</th>\n",
              "      <th>abs_strike_minus_stock</th>\n",
              "      <th>days_til_expiration</th>\n",
              "      <th>years_til_expiration</th>\n",
              "      <th>fair_price_call</th>\n",
              "      <th>fair_price_put</th>\n",
              "      <th>call_is_u_p</th>\n",
              "      <th>put_is_u_p</th>\n",
              "    </tr>\n",
              "  </thead>\n",
              "  <tbody>\n",
              "    <tr>\n",
              "      <th>7034</th>\n",
              "      <td>2020-10-14</td>\n",
              "      <td>213.22</td>\n",
              "      <td>2021-01-15</td>\n",
              "      <td>31.67</td>\n",
              "      <td>7</td>\n",
              "      <td>210.0</td>\n",
              "      <td>32.36</td>\n",
              "      <td>4</td>\n",
              "      <td>3.22</td>\n",
              "      <td>93</td>\n",
              "      <td>0.254795</td>\n",
              "      <td>35.626564</td>\n",
              "      <td>32.016327</td>\n",
              "      <td>True</td>\n",
              "      <td>False</td>\n",
              "    </tr>\n",
              "    <tr>\n",
              "      <th>7035</th>\n",
              "      <td>2020-10-14</td>\n",
              "      <td>213.22</td>\n",
              "      <td>2021-01-15</td>\n",
              "      <td>30.00</td>\n",
              "      <td>10</td>\n",
              "      <td>220.0</td>\n",
              "      <td>36.00</td>\n",
              "      <td>4</td>\n",
              "      <td>6.78</td>\n",
              "      <td>93</td>\n",
              "      <td>0.254795</td>\n",
              "      <td>31.494533</td>\n",
              "      <td>37.865713</td>\n",
              "      <td>True</td>\n",
              "      <td>True</td>\n",
              "    </tr>\n",
              "    <tr>\n",
              "      <th>7033</th>\n",
              "      <td>2020-10-14</td>\n",
              "      <td>213.22</td>\n",
              "      <td>2021-01-15</td>\n",
              "      <td>36.00</td>\n",
              "      <td>1</td>\n",
              "      <td>200.0</td>\n",
              "      <td>26.17</td>\n",
              "      <td>4</td>\n",
              "      <td>13.22</td>\n",
              "      <td>93</td>\n",
              "      <td>0.254795</td>\n",
              "      <td>40.222511</td>\n",
              "      <td>26.630856</td>\n",
              "      <td>True</td>\n",
              "      <td>True</td>\n",
              "    </tr>\n",
              "  </tbody>\n",
              "</table>\n",
              "</div>"
            ],
            "text/plain": [
              "      tradedate  stockprice expiration  ...  fair_price_put  call_is_u_p  put_is_u_p\n",
              "7034 2020-10-14      213.22 2021-01-15  ...       32.016327         True       False\n",
              "7035 2020-10-14      213.22 2021-01-15  ...       37.865713         True        True\n",
              "7033 2020-10-14      213.22 2021-01-15  ...       26.630856         True        True\n",
              "\n",
              "[3 rows x 15 columns]"
            ]
          },
          "metadata": {
            "tags": []
          },
          "execution_count": 225
        }
      ]
    },
    {
      "cell_type": "code",
      "metadata": {
        "id": "wov_YWCkyPKk"
      },
      "source": [
        "# buy if u/p, sell if o/p \n",
        "# then we find the delta of each of the three options \n",
        "def get_price_delta_call(row):\n",
        "    # call delta \n",
        "    s = row.stockprice\n",
        "    k = row.strike \n",
        "    t = row.years_til_expiration\n",
        "    rf=risk_free_rate\n",
        "    div=0\n",
        "    vol=implied_volatility\n",
        "\n",
        "    d1 = (math.log(s/k)+(rf+div+math.pow(vol,2)/2)*t)/(vol*math.sqrt(t))\n",
        "    d2 = d1-vol*math.sqrt(t)\n",
        "    calc_price = norm.cdf(d1)*s*math.exp(-div*t)-norm.cdf(d2)*k*math.exp(-rf*t)   \n",
        "    call_delta = norm.cdf(d1)\n",
        "\n",
        "    return call_delta \n",
        "\n",
        "def get_price_delta_put(row):\n",
        "    # call delta \n",
        "    s = row.stockprice\n",
        "    k = row.strike \n",
        "    t = row.years_til_expiration\n",
        "    rf=risk_free_rate\n",
        "    div=0\n",
        "    vol=implied_volatility\n",
        "\n",
        "    d1 = (math.log(s/k)+(rf+div+math.pow(vol,2)/2)*t)/(vol*math.sqrt(t))\n",
        "    d2 = d1-vol*math.sqrt(t)\n",
        "\n",
        "    # put delta \n",
        "    calc_price = -norm.cdf(-d1)*s*math.exp(-div*t)+norm.cdf(-d2)*k * math.exp(-rf*t)\n",
        "    put_delta = -norm.cdf(-d1) \n",
        "\n",
        "    return put_delta\n",
        "\n",
        "def total_delta_position(row): \n",
        "  call_sign = 1 if row.call_is_u_p else -1 \n",
        "  put_sign =  1 if row.put_is_u_p else -1 \n",
        "  return call_sign * row.call_delta + put_sign * row.put_delta \n",
        "\n",
        "def gamma(S, K, T, r=risk_free_, sigma):\n",
        "    \n",
        "    d1 = (np.log(S / K) + (r + 0.5 * sigma ** 2) * T) / (sigma * np.sqrt(T))\n",
        "    \n",
        "    prob_density = 1 / np.sqrt(2 * np.pi) * np.exp(-d1 ** 2 * 0.5)\n",
        "    \n",
        "    gamma = prob_density / (S * sigma * np.sqrt(T))\n",
        "    \n",
        "    return gamma"
      ],
      "execution_count": 226,
      "outputs": []
    },
    {
      "cell_type": "code",
      "metadata": {
        "colab": {
          "base_uri": "https://localhost:8080/",
          "height": 161
        },
        "id": "xeV7zV-GBtH2",
        "outputId": "6192df8d-121f-483d-8228-856cfb09c67c"
      },
      "source": [
        "temp_trade['call_delta'] = temp_trade.apply(get_price_delta_call,axis=1)\n",
        "temp_trade['put_delta'] = temp_trade.apply(get_price_delta_put,axis=1)\n",
        "temp_trade['delta_position'] = temp_trade.apply(total_delta_position,axis=1)\n",
        "temp_trade.sort_values(by = 'strike',inplace=True)\n",
        "temp_trade"
      ],
      "execution_count": 227,
      "outputs": [
        {
          "output_type": "execute_result",
          "data": {
            "text/html": [
              "<div>\n",
              "<style scoped>\n",
              "    .dataframe tbody tr th:only-of-type {\n",
              "        vertical-align: middle;\n",
              "    }\n",
              "\n",
              "    .dataframe tbody tr th {\n",
              "        vertical-align: top;\n",
              "    }\n",
              "\n",
              "    .dataframe thead th {\n",
              "        text-align: right;\n",
              "    }\n",
              "</style>\n",
              "<table border=\"1\" class=\"dataframe\">\n",
              "  <thead>\n",
              "    <tr style=\"text-align: right;\">\n",
              "      <th></th>\n",
              "      <th>tradedate</th>\n",
              "      <th>stockprice</th>\n",
              "      <th>expiration</th>\n",
              "      <th>lastpricecall</th>\n",
              "      <th>callvolume</th>\n",
              "      <th>strike</th>\n",
              "      <th>lastpriceput</th>\n",
              "      <th>putvolume</th>\n",
              "      <th>abs_strike_minus_stock</th>\n",
              "      <th>days_til_expiration</th>\n",
              "      <th>years_til_expiration</th>\n",
              "      <th>fair_price_call</th>\n",
              "      <th>fair_price_put</th>\n",
              "      <th>call_is_u_p</th>\n",
              "      <th>put_is_u_p</th>\n",
              "      <th>call_delta</th>\n",
              "      <th>put_delta</th>\n",
              "      <th>delta_position</th>\n",
              "    </tr>\n",
              "  </thead>\n",
              "  <tbody>\n",
              "    <tr>\n",
              "      <th>7033</th>\n",
              "      <td>2020-10-14</td>\n",
              "      <td>213.22</td>\n",
              "      <td>2021-01-15</td>\n",
              "      <td>36.00</td>\n",
              "      <td>1</td>\n",
              "      <td>200.0</td>\n",
              "      <td>26.17</td>\n",
              "      <td>4</td>\n",
              "      <td>13.22</td>\n",
              "      <td>93</td>\n",
              "      <td>0.254795</td>\n",
              "      <td>40.222511</td>\n",
              "      <td>26.630856</td>\n",
              "      <td>True</td>\n",
              "      <td>True</td>\n",
              "      <td>0.642436</td>\n",
              "      <td>-0.357564</td>\n",
              "      <td>0.284871</td>\n",
              "    </tr>\n",
              "    <tr>\n",
              "      <th>7034</th>\n",
              "      <td>2020-10-14</td>\n",
              "      <td>213.22</td>\n",
              "      <td>2021-01-15</td>\n",
              "      <td>31.67</td>\n",
              "      <td>7</td>\n",
              "      <td>210.0</td>\n",
              "      <td>32.36</td>\n",
              "      <td>4</td>\n",
              "      <td>3.22</td>\n",
              "      <td>93</td>\n",
              "      <td>0.254795</td>\n",
              "      <td>35.626564</td>\n",
              "      <td>32.016327</td>\n",
              "      <td>True</td>\n",
              "      <td>False</td>\n",
              "      <td>0.596392</td>\n",
              "      <td>-0.403608</td>\n",
              "      <td>1.000000</td>\n",
              "    </tr>\n",
              "    <tr>\n",
              "      <th>7035</th>\n",
              "      <td>2020-10-14</td>\n",
              "      <td>213.22</td>\n",
              "      <td>2021-01-15</td>\n",
              "      <td>30.00</td>\n",
              "      <td>10</td>\n",
              "      <td>220.0</td>\n",
              "      <td>36.00</td>\n",
              "      <td>4</td>\n",
              "      <td>6.78</td>\n",
              "      <td>93</td>\n",
              "      <td>0.254795</td>\n",
              "      <td>31.494533</td>\n",
              "      <td>37.865713</td>\n",
              "      <td>True</td>\n",
              "      <td>True</td>\n",
              "      <td>0.551198</td>\n",
              "      <td>-0.448802</td>\n",
              "      <td>0.102397</td>\n",
              "    </tr>\n",
              "  </tbody>\n",
              "</table>\n",
              "</div>"
            ],
            "text/plain": [
              "      tradedate  stockprice expiration  ...  call_delta  put_delta  delta_position\n",
              "7033 2020-10-14      213.22 2021-01-15  ...    0.642436  -0.357564        0.284871\n",
              "7034 2020-10-14      213.22 2021-01-15  ...    0.596392  -0.403608        1.000000\n",
              "7035 2020-10-14      213.22 2021-01-15  ...    0.551198  -0.448802        0.102397\n",
              "\n",
              "[3 rows x 18 columns]"
            ]
          },
          "metadata": {
            "tags": []
          },
          "execution_count": 227
        }
      ]
    },
    {
      "cell_type": "code",
      "metadata": {
        "colab": {
          "base_uri": "https://localhost:8080/"
        },
        "id": "EALTp5pAbOrT",
        "outputId": "9dd4aa09-1a96-442e-96a8-89071961480e"
      },
      "source": [
        "print('total delta position = ', sum(list(temp_trade.delta_position)))"
      ],
      "execution_count": 228,
      "outputs": [
        {
          "output_type": "stream",
          "text": [
            "total delta position =  1.3872678348387975\n"
          ],
          "name": "stdout"
        }
      ]
    },
    {
      "cell_type": "markdown",
      "metadata": {
        "id": "byNW115-Dtgv"
      },
      "source": [
        "## For every Wednesday onwards, do the following: \n",
        "1) check if the long option is still U/P and short is still O/P. If not, revert the position\n",
        "\n",
        "2) revise delta by recalculating delta "
      ]
    },
    {
      "cell_type": "markdown",
      "metadata": {
        "id": "gvD_hDEZ3iea"
      },
      "source": [
        "## Trading day 10/21"
      ]
    },
    {
      "cell_type": "code",
      "metadata": {
        "colab": {
          "base_uri": "https://localhost:8080/"
        },
        "id": "FiCsVDaHCAil",
        "outputId": "fd564643-351c-4ce7-b6cc-ae31959fad40"
      },
      "source": [
        "trade_date = trade_start_date = list(temp_trade.tradedate)[0]\n",
        "election_date = pd.to_datetime(\"2020-11-04\")\n",
        "strategy_revise_dates = [] \n",
        "\n",
        "while trade_date < election_date: \n",
        "  trade_date += datetime.timedelta(weeks=1)\n",
        "  strategy_revise_dates.append(trade_date) \n",
        "\n",
        "if strategy_revise_dates[-1] >= election_date: \n",
        "  strategy_revise_dates = strategy_revise_dates[:-1]\n",
        "  \n",
        "print('Trade Revision Dates: ', strategy_revise_dates)"
      ],
      "execution_count": 155,
      "outputs": [
        {
          "output_type": "stream",
          "text": [
            "Trade Revision Dates:  [Timestamp('2020-10-21 00:00:00'), Timestamp('2020-10-28 00:00:00')]\n"
          ],
          "name": "stdout"
        }
      ]
    },
    {
      "cell_type": "code",
      "metadata": {
        "colab": {
          "base_uri": "https://localhost:8080/",
          "height": 976
        },
        "id": "44XdkNMPHgX8",
        "outputId": "cc7dbbf7-b930-40b7-b9a1-5579f1038787"
      },
      "source": [
        "# first do it on the first trading date\n",
        "trading_day = strategy_revise_dates[0]\n",
        "temp_trade = data[(data['strike'].isin(list(temp_trade.strike))) & (data.tradedate == trading_day)]\n",
        "\n",
        "temp_trade['fair_price_call'] = temp_trade.apply(compute_fair_price_call,axis=1)\n",
        "temp_trade['fair_price_put'] = temp_trade.apply(compute_fair_price_put,axis=1)\n",
        "temp_trade['call_is_u_p'] = temp_trade.lastpricecall < temp_trade.fair_price_call\n",
        "temp_trade['put_is_u_p'] = temp_trade.lastpriceput < temp_trade.fair_price_put\n",
        "temp_trade['call_delta'] = temp_trade.apply(get_price_delta_call,axis=1)\n",
        "temp_trade['put_delta'] = temp_trade.apply(get_price_delta_put,axis=1)\n",
        "temp_trade['delta_position'] = temp_trade.apply(total_delta_position,axis=1)\n",
        "temp_trade.sort_values(by = 'strike',inplace=True)\n",
        "\n",
        "temp_trade\n"
      ],
      "execution_count": 156,
      "outputs": [
        {
          "output_type": "stream",
          "text": [
            "/usr/local/lib/python3.6/dist-packages/ipykernel_launcher.py:5: SettingWithCopyWarning: \n",
            "A value is trying to be set on a copy of a slice from a DataFrame.\n",
            "Try using .loc[row_indexer,col_indexer] = value instead\n",
            "\n",
            "See the caveats in the documentation: https://pandas.pydata.org/pandas-docs/stable/user_guide/indexing.html#returning-a-view-versus-a-copy\n",
            "  \"\"\"\n",
            "/usr/local/lib/python3.6/dist-packages/ipykernel_launcher.py:6: SettingWithCopyWarning: \n",
            "A value is trying to be set on a copy of a slice from a DataFrame.\n",
            "Try using .loc[row_indexer,col_indexer] = value instead\n",
            "\n",
            "See the caveats in the documentation: https://pandas.pydata.org/pandas-docs/stable/user_guide/indexing.html#returning-a-view-versus-a-copy\n",
            "  \n",
            "/usr/local/lib/python3.6/dist-packages/ipykernel_launcher.py:7: SettingWithCopyWarning: \n",
            "A value is trying to be set on a copy of a slice from a DataFrame.\n",
            "Try using .loc[row_indexer,col_indexer] = value instead\n",
            "\n",
            "See the caveats in the documentation: https://pandas.pydata.org/pandas-docs/stable/user_guide/indexing.html#returning-a-view-versus-a-copy\n",
            "  import sys\n",
            "/usr/local/lib/python3.6/dist-packages/ipykernel_launcher.py:8: SettingWithCopyWarning: \n",
            "A value is trying to be set on a copy of a slice from a DataFrame.\n",
            "Try using .loc[row_indexer,col_indexer] = value instead\n",
            "\n",
            "See the caveats in the documentation: https://pandas.pydata.org/pandas-docs/stable/user_guide/indexing.html#returning-a-view-versus-a-copy\n",
            "  \n",
            "/usr/local/lib/python3.6/dist-packages/ipykernel_launcher.py:9: SettingWithCopyWarning: \n",
            "A value is trying to be set on a copy of a slice from a DataFrame.\n",
            "Try using .loc[row_indexer,col_indexer] = value instead\n",
            "\n",
            "See the caveats in the documentation: https://pandas.pydata.org/pandas-docs/stable/user_guide/indexing.html#returning-a-view-versus-a-copy\n",
            "  if __name__ == '__main__':\n",
            "/usr/local/lib/python3.6/dist-packages/ipykernel_launcher.py:10: SettingWithCopyWarning: \n",
            "A value is trying to be set on a copy of a slice from a DataFrame.\n",
            "Try using .loc[row_indexer,col_indexer] = value instead\n",
            "\n",
            "See the caveats in the documentation: https://pandas.pydata.org/pandas-docs/stable/user_guide/indexing.html#returning-a-view-versus-a-copy\n",
            "  # Remove the CWD from sys.path while we load stuff.\n",
            "/usr/local/lib/python3.6/dist-packages/ipykernel_launcher.py:11: SettingWithCopyWarning: \n",
            "A value is trying to be set on a copy of a slice from a DataFrame.\n",
            "Try using .loc[row_indexer,col_indexer] = value instead\n",
            "\n",
            "See the caveats in the documentation: https://pandas.pydata.org/pandas-docs/stable/user_guide/indexing.html#returning-a-view-versus-a-copy\n",
            "  # This is added back by InteractiveShellApp.init_path()\n",
            "/usr/local/lib/python3.6/dist-packages/ipykernel_launcher.py:12: SettingWithCopyWarning: \n",
            "A value is trying to be set on a copy of a slice from a DataFrame\n",
            "\n",
            "See the caveats in the documentation: https://pandas.pydata.org/pandas-docs/stable/user_guide/indexing.html#returning-a-view-versus-a-copy\n",
            "  if sys.path[0] == '':\n"
          ],
          "name": "stderr"
        },
        {
          "output_type": "execute_result",
          "data": {
            "text/html": [
              "<div>\n",
              "<style scoped>\n",
              "    .dataframe tbody tr th:only-of-type {\n",
              "        vertical-align: middle;\n",
              "    }\n",
              "\n",
              "    .dataframe tbody tr th {\n",
              "        vertical-align: top;\n",
              "    }\n",
              "\n",
              "    .dataframe thead th {\n",
              "        text-align: right;\n",
              "    }\n",
              "</style>\n",
              "<table border=\"1\" class=\"dataframe\">\n",
              "  <thead>\n",
              "    <tr style=\"text-align: right;\">\n",
              "      <th></th>\n",
              "      <th>tradedate</th>\n",
              "      <th>stockprice</th>\n",
              "      <th>expiration</th>\n",
              "      <th>lastpricecall</th>\n",
              "      <th>callvolume</th>\n",
              "      <th>strike</th>\n",
              "      <th>lastpriceput</th>\n",
              "      <th>putvolume</th>\n",
              "      <th>abs_strike_minus_stock</th>\n",
              "      <th>days_til_expiration</th>\n",
              "      <th>years_til_expiration</th>\n",
              "      <th>fair_price_call</th>\n",
              "      <th>fair_price_put</th>\n",
              "      <th>call_is_u_p</th>\n",
              "      <th>put_is_u_p</th>\n",
              "      <th>call_delta</th>\n",
              "      <th>put_delta</th>\n",
              "      <th>delta_position</th>\n",
              "    </tr>\n",
              "  </thead>\n",
              "  <tbody>\n",
              "    <tr>\n",
              "      <th>9813</th>\n",
              "      <td>2020-10-21</td>\n",
              "      <td>192.22</td>\n",
              "      <td>2021-05-21</td>\n",
              "      <td>42.0</td>\n",
              "      <td>9</td>\n",
              "      <td>200.0</td>\n",
              "      <td>47.42</td>\n",
              "      <td>1</td>\n",
              "      <td>7.78</td>\n",
              "      <td>212</td>\n",
              "      <td>0.580822</td>\n",
              "      <td>42.685423</td>\n",
              "      <td>49.619218</td>\n",
              "      <td>True</td>\n",
              "      <td>True</td>\n",
              "      <td>0.594971</td>\n",
              "      <td>-0.405029</td>\n",
              "      <td>0.189941</td>\n",
              "    </tr>\n",
              "    <tr>\n",
              "      <th>9814</th>\n",
              "      <td>2020-10-21</td>\n",
              "      <td>192.22</td>\n",
              "      <td>2021-05-21</td>\n",
              "      <td>0.0</td>\n",
              "      <td>0</td>\n",
              "      <td>210.0</td>\n",
              "      <td>54.80</td>\n",
              "      <td>4</td>\n",
              "      <td>17.78</td>\n",
              "      <td>212</td>\n",
              "      <td>0.580822</td>\n",
              "      <td>39.252800</td>\n",
              "      <td>56.144285</td>\n",
              "      <td>True</td>\n",
              "      <td>True</td>\n",
              "      <td>0.563126</td>\n",
              "      <td>-0.436874</td>\n",
              "      <td>0.126253</td>\n",
              "    </tr>\n",
              "    <tr>\n",
              "      <th>9815</th>\n",
              "      <td>2020-10-21</td>\n",
              "      <td>192.22</td>\n",
              "      <td>2021-05-21</td>\n",
              "      <td>36.6</td>\n",
              "      <td>1</td>\n",
              "      <td>220.0</td>\n",
              "      <td>0.00</td>\n",
              "      <td>0</td>\n",
              "      <td>27.78</td>\n",
              "      <td>212</td>\n",
              "      <td>0.580822</td>\n",
              "      <td>36.106930</td>\n",
              "      <td>62.956104</td>\n",
              "      <td>False</td>\n",
              "      <td>True</td>\n",
              "      <td>0.532374</td>\n",
              "      <td>-0.467626</td>\n",
              "      <td>-1.000000</td>\n",
              "    </tr>\n",
              "  </tbody>\n",
              "</table>\n",
              "</div>"
            ],
            "text/plain": [
              "      tradedate  stockprice expiration  ...  call_delta  put_delta  delta_position\n",
              "9813 2020-10-21      192.22 2021-05-21  ...    0.594971  -0.405029        0.189941\n",
              "9814 2020-10-21      192.22 2021-05-21  ...    0.563126  -0.436874        0.126253\n",
              "9815 2020-10-21      192.22 2021-05-21  ...    0.532374  -0.467626       -1.000000\n",
              "\n",
              "[3 rows x 18 columns]"
            ]
          },
          "metadata": {
            "tags": []
          },
          "execution_count": 156
        }
      ]
    },
    {
      "cell_type": "code",
      "metadata": {
        "colab": {
          "base_uri": "https://localhost:8080/"
        },
        "id": "OGICn54AgvEo",
        "outputId": "04280b0f-2423-43b7-9a7d-acad11c45fd6"
      },
      "source": [
        "print('total delta position = ', sum(list(temp_trade.delta_position)))"
      ],
      "execution_count": 157,
      "outputs": [
        {
          "output_type": "stream",
          "text": [
            "total delta position =  -0.6838059841591997\n"
          ],
          "name": "stdout"
        }
      ]
    },
    {
      "cell_type": "markdown",
      "metadata": {
        "id": "YAQFOA2hwrhg"
      },
      "source": [
        "## Next trading day - 10/28"
      ]
    },
    {
      "cell_type": "code",
      "metadata": {
        "colab": {
          "base_uri": "https://localhost:8080/",
          "height": 976
        },
        "id": "JiAzuAAcjVOC",
        "outputId": "d2ddf008-1dd6-4e1d-be5f-c8141e264973"
      },
      "source": [
        "trading_day = strategy_revise_dates[1]\n",
        "temp_trade = data[(data['strike'].isin(list(temp_trade.strike))) & (data.tradedate == trading_day)]\n",
        "\n",
        "temp_trade['fair_price_call'] = temp_trade.apply(compute_fair_price_call,axis=1)\n",
        "temp_trade['fair_price_put'] = temp_trade.apply(compute_fair_price_put,axis=1)\n",
        "temp_trade['call_is_u_p'] = temp_trade.lastpricecall < temp_trade.fair_price_call\n",
        "temp_trade['put_is_u_p'] = temp_trade.lastpriceput < temp_trade.fair_price_put\n",
        "temp_trade['call_delta'] = temp_trade.apply(get_price_delta_call,axis=1)\n",
        "temp_trade['put_delta'] = temp_trade.apply(get_price_delta_put,axis=1)\n",
        "temp_trade['delta_position'] = temp_trade.apply(total_delta_position,axis=1)\n",
        "temp_trade.sort_values(by = 'strike',inplace=True)\n",
        "\n",
        "temp_trade"
      ],
      "execution_count": 125,
      "outputs": [
        {
          "output_type": "stream",
          "text": [
            "/usr/local/lib/python3.6/dist-packages/ipykernel_launcher.py:4: SettingWithCopyWarning: \n",
            "A value is trying to be set on a copy of a slice from a DataFrame.\n",
            "Try using .loc[row_indexer,col_indexer] = value instead\n",
            "\n",
            "See the caveats in the documentation: https://pandas.pydata.org/pandas-docs/stable/user_guide/indexing.html#returning-a-view-versus-a-copy\n",
            "  after removing the cwd from sys.path.\n",
            "/usr/local/lib/python3.6/dist-packages/ipykernel_launcher.py:5: SettingWithCopyWarning: \n",
            "A value is trying to be set on a copy of a slice from a DataFrame.\n",
            "Try using .loc[row_indexer,col_indexer] = value instead\n",
            "\n",
            "See the caveats in the documentation: https://pandas.pydata.org/pandas-docs/stable/user_guide/indexing.html#returning-a-view-versus-a-copy\n",
            "  \"\"\"\n",
            "/usr/local/lib/python3.6/dist-packages/ipykernel_launcher.py:6: SettingWithCopyWarning: \n",
            "A value is trying to be set on a copy of a slice from a DataFrame.\n",
            "Try using .loc[row_indexer,col_indexer] = value instead\n",
            "\n",
            "See the caveats in the documentation: https://pandas.pydata.org/pandas-docs/stable/user_guide/indexing.html#returning-a-view-versus-a-copy\n",
            "  \n",
            "/usr/local/lib/python3.6/dist-packages/ipykernel_launcher.py:7: SettingWithCopyWarning: \n",
            "A value is trying to be set on a copy of a slice from a DataFrame.\n",
            "Try using .loc[row_indexer,col_indexer] = value instead\n",
            "\n",
            "See the caveats in the documentation: https://pandas.pydata.org/pandas-docs/stable/user_guide/indexing.html#returning-a-view-versus-a-copy\n",
            "  import sys\n",
            "/usr/local/lib/python3.6/dist-packages/ipykernel_launcher.py:8: SettingWithCopyWarning: \n",
            "A value is trying to be set on a copy of a slice from a DataFrame.\n",
            "Try using .loc[row_indexer,col_indexer] = value instead\n",
            "\n",
            "See the caveats in the documentation: https://pandas.pydata.org/pandas-docs/stable/user_guide/indexing.html#returning-a-view-versus-a-copy\n",
            "  \n",
            "/usr/local/lib/python3.6/dist-packages/ipykernel_launcher.py:9: SettingWithCopyWarning: \n",
            "A value is trying to be set on a copy of a slice from a DataFrame.\n",
            "Try using .loc[row_indexer,col_indexer] = value instead\n",
            "\n",
            "See the caveats in the documentation: https://pandas.pydata.org/pandas-docs/stable/user_guide/indexing.html#returning-a-view-versus-a-copy\n",
            "  if __name__ == '__main__':\n",
            "/usr/local/lib/python3.6/dist-packages/ipykernel_launcher.py:10: SettingWithCopyWarning: \n",
            "A value is trying to be set on a copy of a slice from a DataFrame.\n",
            "Try using .loc[row_indexer,col_indexer] = value instead\n",
            "\n",
            "See the caveats in the documentation: https://pandas.pydata.org/pandas-docs/stable/user_guide/indexing.html#returning-a-view-versus-a-copy\n",
            "  # Remove the CWD from sys.path while we load stuff.\n",
            "/usr/local/lib/python3.6/dist-packages/ipykernel_launcher.py:11: SettingWithCopyWarning: \n",
            "A value is trying to be set on a copy of a slice from a DataFrame\n",
            "\n",
            "See the caveats in the documentation: https://pandas.pydata.org/pandas-docs/stable/user_guide/indexing.html#returning-a-view-versus-a-copy\n",
            "  # This is added back by InteractiveShellApp.init_path()\n"
          ],
          "name": "stderr"
        },
        {
          "output_type": "execute_result",
          "data": {
            "text/html": [
              "<div>\n",
              "<style scoped>\n",
              "    .dataframe tbody tr th:only-of-type {\n",
              "        vertical-align: middle;\n",
              "    }\n",
              "\n",
              "    .dataframe tbody tr th {\n",
              "        vertical-align: top;\n",
              "    }\n",
              "\n",
              "    .dataframe thead th {\n",
              "        text-align: right;\n",
              "    }\n",
              "</style>\n",
              "<table border=\"1\" class=\"dataframe\">\n",
              "  <thead>\n",
              "    <tr style=\"text-align: right;\">\n",
              "      <th></th>\n",
              "      <th>tradedate</th>\n",
              "      <th>stockprice</th>\n",
              "      <th>expiration</th>\n",
              "      <th>lastpricecall</th>\n",
              "      <th>callvolume</th>\n",
              "      <th>strike</th>\n",
              "      <th>lastpriceput</th>\n",
              "      <th>putvolume</th>\n",
              "      <th>abs_strike_minus_stock</th>\n",
              "      <th>days_til_expiration</th>\n",
              "      <th>years_til_expiration</th>\n",
              "      <th>fair_price_call</th>\n",
              "      <th>fair_price_put</th>\n",
              "      <th>call_is_u_p</th>\n",
              "      <th>put_is_u_p</th>\n",
              "      <th>call_delta</th>\n",
              "      <th>put_delta</th>\n",
              "      <th>delta_position</th>\n",
              "    </tr>\n",
              "  </thead>\n",
              "  <tbody>\n",
              "    <tr>\n",
              "      <th>13398</th>\n",
              "      <td>2020-10-28</td>\n",
              "      <td>202.36</td>\n",
              "      <td>2021-01-15</td>\n",
              "      <td>31.48</td>\n",
              "      <td>15</td>\n",
              "      <td>200.0</td>\n",
              "      <td>29.35</td>\n",
              "      <td>7</td>\n",
              "      <td>2.36</td>\n",
              "      <td>79</td>\n",
              "      <td>0.216438</td>\n",
              "      <td>31.000179</td>\n",
              "      <td>28.324429</td>\n",
              "      <td>False</td>\n",
              "      <td>False</td>\n",
              "      <td>0.587722</td>\n",
              "      <td>-0.412278</td>\n",
              "      <td>-0.175443</td>\n",
              "    </tr>\n",
              "    <tr>\n",
              "      <th>13399</th>\n",
              "      <td>2020-10-28</td>\n",
              "      <td>202.36</td>\n",
              "      <td>2021-01-15</td>\n",
              "      <td>26.57</td>\n",
              "      <td>1</td>\n",
              "      <td>210.0</td>\n",
              "      <td>33.50</td>\n",
              "      <td>10</td>\n",
              "      <td>7.64</td>\n",
              "      <td>79</td>\n",
              "      <td>0.216438</td>\n",
              "      <td>26.862084</td>\n",
              "      <td>34.170546</td>\n",
              "      <td>True</td>\n",
              "      <td>True</td>\n",
              "      <td>0.536035</td>\n",
              "      <td>-0.463965</td>\n",
              "      <td>0.072070</td>\n",
              "    </tr>\n",
              "    <tr>\n",
              "      <th>13400</th>\n",
              "      <td>2020-10-28</td>\n",
              "      <td>202.36</td>\n",
              "      <td>2021-01-15</td>\n",
              "      <td>23.60</td>\n",
              "      <td>11</td>\n",
              "      <td>220.0</td>\n",
              "      <td>40.60</td>\n",
              "      <td>10</td>\n",
              "      <td>17.64</td>\n",
              "      <td>79</td>\n",
              "      <td>0.216438</td>\n",
              "      <td>23.214164</td>\n",
              "      <td>40.506838</td>\n",
              "      <td>False</td>\n",
              "      <td>False</td>\n",
              "      <td>0.486166</td>\n",
              "      <td>-0.513834</td>\n",
              "      <td>0.027667</td>\n",
              "    </tr>\n",
              "  </tbody>\n",
              "</table>\n",
              "</div>"
            ],
            "text/plain": [
              "       tradedate  stockprice expiration  ...  call_delta  put_delta  delta_position\n",
              "13398 2020-10-28      202.36 2021-01-15  ...    0.587722  -0.412278       -0.175443\n",
              "13399 2020-10-28      202.36 2021-01-15  ...    0.536035  -0.463965        0.072070\n",
              "13400 2020-10-28      202.36 2021-01-15  ...    0.486166  -0.513834        0.027667\n",
              "\n",
              "[3 rows x 18 columns]"
            ]
          },
          "metadata": {
            "tags": []
          },
          "execution_count": 125
        }
      ]
    },
    {
      "cell_type": "code",
      "metadata": {
        "colab": {
          "base_uri": "https://localhost:8080/"
        },
        "id": "H2OMQ_96jBiC",
        "outputId": "f8580564-d586-46e0-d07f-092c4de050df"
      },
      "source": [
        "print('total delta position = ', sum(list(temp_trade.delta_position)))"
      ],
      "execution_count": 126,
      "outputs": [
        {
          "output_type": "stream",
          "text": [
            "total delta position =  -0.07570615931669\n"
          ],
          "name": "stdout"
        }
      ]
    },
    {
      "cell_type": "markdown",
      "metadata": {
        "id": "uC7F3MI4xMSi"
      },
      "source": [
        "## ELECTION DAY - recalculate IV based on data from 11/04"
      ]
    },
    {
      "cell_type": "code",
      "metadata": {
        "colab": {
          "base_uri": "https://localhost:8080/",
          "height": 80
        },
        "id": "xZTPWOqaxIk3",
        "outputId": "1ceb139c-db80-4bad-de2d-2071f9422ccb"
      },
      "source": [
        "recalculate_IV_data = data[data.tradedate == election_date]\n",
        "IV2_table = recalculate_IV_data.sort_values(by='abs_strike_minus_stock').head(1)\n",
        "\n",
        "IV2_table"
      ],
      "execution_count": 127,
      "outputs": [
        {
          "output_type": "execute_result",
          "data": {
            "text/html": [
              "<div>\n",
              "<style scoped>\n",
              "    .dataframe tbody tr th:only-of-type {\n",
              "        vertical-align: middle;\n",
              "    }\n",
              "\n",
              "    .dataframe tbody tr th {\n",
              "        vertical-align: top;\n",
              "    }\n",
              "\n",
              "    .dataframe thead th {\n",
              "        text-align: right;\n",
              "    }\n",
              "</style>\n",
              "<table border=\"1\" class=\"dataframe\">\n",
              "  <thead>\n",
              "    <tr style=\"text-align: right;\">\n",
              "      <th></th>\n",
              "      <th>tradedate</th>\n",
              "      <th>stockprice</th>\n",
              "      <th>expiration</th>\n",
              "      <th>lastpricecall</th>\n",
              "      <th>callvolume</th>\n",
              "      <th>strike</th>\n",
              "      <th>lastpriceput</th>\n",
              "      <th>putvolume</th>\n",
              "      <th>abs_strike_minus_stock</th>\n",
              "      <th>days_til_expiration</th>\n",
              "      <th>years_til_expiration</th>\n",
              "    </tr>\n",
              "  </thead>\n",
              "  <tbody>\n",
              "    <tr>\n",
              "      <th>16697</th>\n",
              "      <td>2020-11-04</td>\n",
              "      <td>201.17</td>\n",
              "      <td>2021-01-15</td>\n",
              "      <td>24.26</td>\n",
              "      <td>7</td>\n",
              "      <td>200.0</td>\n",
              "      <td>25.08</td>\n",
              "      <td>3</td>\n",
              "      <td>1.17</td>\n",
              "      <td>72</td>\n",
              "      <td>0.19726</td>\n",
              "    </tr>\n",
              "  </tbody>\n",
              "</table>\n",
              "</div>"
            ],
            "text/plain": [
              "       tradedate  stockprice  ... days_til_expiration  years_til_expiration\n",
              "16697 2020-11-04      201.17  ...                  72               0.19726\n",
              "\n",
              "[1 rows x 11 columns]"
            ]
          },
          "metadata": {
            "tags": []
          },
          "execution_count": 127
        }
      ]
    },
    {
      "cell_type": "code",
      "metadata": {
        "colab": {
          "base_uri": "https://localhost:8080/"
        },
        "id": "P0tBv8mUzEd5",
        "outputId": "a0a0e3f5-487c-494c-d2db-ee6a719d1707"
      },
      "source": [
        "K = list(IV2_table.strike)[0]\n",
        "T = list(IV2_table.years_til_expiration)[0]\n",
        "S = list(IV2_table.stockprice)[0]\n",
        "r = risk_free_rate \n",
        "  \n",
        "# call IV \n",
        "V_market = list(IV2_table.lastpricecall)[0]\n",
        "cp = 'c' # call option\n",
        "call_IV = find_vol(V_market, cp, S, K, T, r)\n",
        "print('Implied vol: %.2f%%' % (call_IV * 100))\n",
        "print('Market price = %.2f' % V_market)\n",
        "print('Model price = %.2f' % bs_price(cp, S, K, T, r, call_IV))\n",
        "print('')\n",
        "# put IV \n",
        "V_market = list(IV2_table.lastpriceput)[0]\n",
        "cp = 'p' # put option\n",
        "put_IV = find_vol(V_market, cp, S, K, T, r)\n",
        "print('Implied vol: %.2f%%' % (put_IV * 100))\n",
        "print('Market price = %.2f' % V_market)\n",
        "print('Model price = %.2f' % bs_price(cp, S, K, T, r, put_IV))\n",
        "\n",
        "call_vol = list(IV2_table.callvolume)[0]\n",
        "put_vol = list(IV2_table.putvolume)[0]\n",
        "implied_volatility_post_election = (call_vol*call_IV+put_vol*put_IV)/(call_vol+put_vol) if call_vol+put_vol else (call_IV+put_IV)/2\n",
        "\n",
        "print('total weighed IV for ATM option that expires on {} AFTER ELECTION is {}'.format(expiry_date, round(implied_volatility_post_election,5)))\n"
      ],
      "execution_count": 128,
      "outputs": [
        {
          "output_type": "stream",
          "text": [
            "Implied vol: 66.48%\n",
            "Market price = 24.26\n",
            "Model price = 24.26\n",
            "\n",
            "Implied vol: 72.97%\n",
            "Market price = 25.08\n",
            "Model price = 25.08\n",
            "total weighed IV for ATM option that expires on 2021-01-15 00:00:00 AFTER ELECTION is 0.68425\n"
          ],
          "name": "stdout"
        }
      ]
    },
    {
      "cell_type": "markdown",
      "metadata": {
        "id": "U3eMj0E_0lyz"
      },
      "source": [
        "rule of thumb - its less than before election - so it's good..."
      ]
    },
    {
      "cell_type": "markdown",
      "metadata": {
        "id": "ogOTfCkk0k53"
      },
      "source": [
        "## Do the same strategy as before - 11/11"
      ]
    },
    {
      "cell_type": "code",
      "metadata": {
        "colab": {
          "base_uri": "https://localhost:8080/"
        },
        "id": "84TBkKvP0e94",
        "outputId": "1d020550-546c-4347-8ecf-1a12cdd3fefb"
      },
      "source": [
        "trade_date = election_date\n",
        "liquidation_date = pd.to_datetime(\"2020-11-18\")\n",
        "strategy_revise_dates = [] \n",
        "\n",
        "while trade_date < liquidation_date: \n",
        "  trade_date += datetime.timedelta(weeks=1)\n",
        "  strategy_revise_dates.append(trade_date) \n",
        "\n",
        "if strategy_revise_dates[-1] >= liquidation_date: \n",
        "  strategy_revise_dates = strategy_revise_dates[:-1]\n",
        "  \n",
        "print('Trade Revision Dates: ', strategy_revise_dates)"
      ],
      "execution_count": 129,
      "outputs": [
        {
          "output_type": "stream",
          "text": [
            "Trade Revision Dates:  [Timestamp('2020-11-11 00:00:00')]\n"
          ],
          "name": "stdout"
        }
      ]
    },
    {
      "cell_type": "code",
      "metadata": {
        "id": "vv6UNSR120eg"
      },
      "source": [
        "def compute_fair_price_call(row): \n",
        "  S = row.stockprice \n",
        "  K = row.strike \n",
        "  cp='c'\n",
        "  T = row.years_til_expiration\n",
        "  fair_price = bs_price(cp, S, K, T, risk_free_rate, implied_volatility_post_election)\n",
        "  return fair_price\n",
        "\n",
        "def compute_fair_price_put(row): \n",
        "  S = row.stockprice \n",
        "  K = row.strike \n",
        "  cp='p'\n",
        "  T = row.years_til_expiration\n",
        "  fair_price = bs_price(cp, S, K, T, risk_free_rate, implied_volatility_post_election)\n",
        "  return fair_price\n",
        "\n",
        "\n",
        "# buy if u/p, sell if o/p \n",
        "# then we find the delta of each of the three options \n",
        "def get_price_delta_call(row):\n",
        "    # call delta \n",
        "    s = row.stockprice\n",
        "    k = row.strike \n",
        "    t = row.years_til_expiration\n",
        "    rf=risk_free_rate\n",
        "    div=0\n",
        "    vol=implied_volatility_post_election\n",
        "\n",
        "    d1 = (math.log(s/k)+(rf+div+math.pow(vol,2)/2)*t)/(vol*math.sqrt(t))\n",
        "    d2 = d1-vol*math.sqrt(t)\n",
        "    calc_price = norm.cdf(d1)*s*math.exp(-div*t)-norm.cdf(d2)*k*math.exp(-rf*t)   \n",
        "    call_delta = norm.cdf(d1)\n",
        "\n",
        "    return call_delta \n",
        "\n",
        "def get_price_delta_put(row):\n",
        "    # call delta \n",
        "    s = row.stockprice\n",
        "    k = row.strike \n",
        "    t = row.years_til_expiration\n",
        "    rf=risk_free_rate\n",
        "    div=0\n",
        "    vol=implied_volatility_post_election\n",
        "\n",
        "    d1 = (math.log(s/k)+(rf+div+math.pow(vol,2)/2)*t)/(vol*math.sqrt(t))\n",
        "    d2 = d1-vol*math.sqrt(t)\n",
        "\n",
        "    # put delta \n",
        "    calc_price = -norm.cdf(-d1)*s*math.exp(-div*t)+norm.cdf(-d2)*k * math.exp(-rf*t)\n",
        "    put_delta = -norm.cdf(-d1) \n",
        "\n",
        "    return put_delta"
      ],
      "execution_count": 131,
      "outputs": []
    },
    {
      "cell_type": "code",
      "metadata": {
        "colab": {
          "base_uri": "https://localhost:8080/",
          "height": 976
        },
        "id": "7wbYMMzd1PuU",
        "outputId": "4b472228-0dbd-4389-d83d-d23cf86db88e"
      },
      "source": [
        "trading_day = strategy_revise_dates[0]\n",
        "temp_trade = data[(data['strike'].isin(list(temp_trade.strike))) & (data.tradedate == trading_day)]\n",
        "\n",
        "temp_trade['fair_price_call'] = temp_trade.apply(compute_fair_price_call,axis=1)\n",
        "temp_trade['fair_price_put'] = temp_trade.apply(compute_fair_price_put,axis=1)\n",
        "temp_trade['call_is_u_p'] = temp_trade.lastpricecall < temp_trade.fair_price_call\n",
        "temp_trade['put_is_u_p'] = temp_trade.lastpriceput < temp_trade.fair_price_put\n",
        "temp_trade['call_delta'] = temp_trade.apply(get_price_delta_call,axis=1)\n",
        "temp_trade['put_delta'] = temp_trade.apply(get_price_delta_put,axis=1)\n",
        "temp_trade['delta_position'] = temp_trade.apply(total_delta_position,axis=1)\n",
        "temp_trade.sort_values(by = 'strike',inplace=True)\n",
        "\n",
        "temp_trade\n"
      ],
      "execution_count": 132,
      "outputs": [
        {
          "output_type": "stream",
          "text": [
            "/usr/local/lib/python3.6/dist-packages/ipykernel_launcher.py:4: SettingWithCopyWarning: \n",
            "A value is trying to be set on a copy of a slice from a DataFrame.\n",
            "Try using .loc[row_indexer,col_indexer] = value instead\n",
            "\n",
            "See the caveats in the documentation: https://pandas.pydata.org/pandas-docs/stable/user_guide/indexing.html#returning-a-view-versus-a-copy\n",
            "  after removing the cwd from sys.path.\n",
            "/usr/local/lib/python3.6/dist-packages/ipykernel_launcher.py:5: SettingWithCopyWarning: \n",
            "A value is trying to be set on a copy of a slice from a DataFrame.\n",
            "Try using .loc[row_indexer,col_indexer] = value instead\n",
            "\n",
            "See the caveats in the documentation: https://pandas.pydata.org/pandas-docs/stable/user_guide/indexing.html#returning-a-view-versus-a-copy\n",
            "  \"\"\"\n",
            "/usr/local/lib/python3.6/dist-packages/ipykernel_launcher.py:6: SettingWithCopyWarning: \n",
            "A value is trying to be set on a copy of a slice from a DataFrame.\n",
            "Try using .loc[row_indexer,col_indexer] = value instead\n",
            "\n",
            "See the caveats in the documentation: https://pandas.pydata.org/pandas-docs/stable/user_guide/indexing.html#returning-a-view-versus-a-copy\n",
            "  \n",
            "/usr/local/lib/python3.6/dist-packages/ipykernel_launcher.py:7: SettingWithCopyWarning: \n",
            "A value is trying to be set on a copy of a slice from a DataFrame.\n",
            "Try using .loc[row_indexer,col_indexer] = value instead\n",
            "\n",
            "See the caveats in the documentation: https://pandas.pydata.org/pandas-docs/stable/user_guide/indexing.html#returning-a-view-versus-a-copy\n",
            "  import sys\n",
            "/usr/local/lib/python3.6/dist-packages/ipykernel_launcher.py:8: SettingWithCopyWarning: \n",
            "A value is trying to be set on a copy of a slice from a DataFrame.\n",
            "Try using .loc[row_indexer,col_indexer] = value instead\n",
            "\n",
            "See the caveats in the documentation: https://pandas.pydata.org/pandas-docs/stable/user_guide/indexing.html#returning-a-view-versus-a-copy\n",
            "  \n",
            "/usr/local/lib/python3.6/dist-packages/ipykernel_launcher.py:9: SettingWithCopyWarning: \n",
            "A value is trying to be set on a copy of a slice from a DataFrame.\n",
            "Try using .loc[row_indexer,col_indexer] = value instead\n",
            "\n",
            "See the caveats in the documentation: https://pandas.pydata.org/pandas-docs/stable/user_guide/indexing.html#returning-a-view-versus-a-copy\n",
            "  if __name__ == '__main__':\n",
            "/usr/local/lib/python3.6/dist-packages/ipykernel_launcher.py:10: SettingWithCopyWarning: \n",
            "A value is trying to be set on a copy of a slice from a DataFrame.\n",
            "Try using .loc[row_indexer,col_indexer] = value instead\n",
            "\n",
            "See the caveats in the documentation: https://pandas.pydata.org/pandas-docs/stable/user_guide/indexing.html#returning-a-view-versus-a-copy\n",
            "  # Remove the CWD from sys.path while we load stuff.\n",
            "/usr/local/lib/python3.6/dist-packages/ipykernel_launcher.py:11: SettingWithCopyWarning: \n",
            "A value is trying to be set on a copy of a slice from a DataFrame\n",
            "\n",
            "See the caveats in the documentation: https://pandas.pydata.org/pandas-docs/stable/user_guide/indexing.html#returning-a-view-versus-a-copy\n",
            "  # This is added back by InteractiveShellApp.init_path()\n"
          ],
          "name": "stderr"
        },
        {
          "output_type": "execute_result",
          "data": {
            "text/html": [
              "<div>\n",
              "<style scoped>\n",
              "    .dataframe tbody tr th:only-of-type {\n",
              "        vertical-align: middle;\n",
              "    }\n",
              "\n",
              "    .dataframe tbody tr th {\n",
              "        vertical-align: top;\n",
              "    }\n",
              "\n",
              "    .dataframe thead th {\n",
              "        text-align: right;\n",
              "    }\n",
              "</style>\n",
              "<table border=\"1\" class=\"dataframe\">\n",
              "  <thead>\n",
              "    <tr style=\"text-align: right;\">\n",
              "      <th></th>\n",
              "      <th>tradedate</th>\n",
              "      <th>stockprice</th>\n",
              "      <th>expiration</th>\n",
              "      <th>lastpricecall</th>\n",
              "      <th>callvolume</th>\n",
              "      <th>strike</th>\n",
              "      <th>lastpriceput</th>\n",
              "      <th>putvolume</th>\n",
              "      <th>abs_strike_minus_stock</th>\n",
              "      <th>days_til_expiration</th>\n",
              "      <th>years_til_expiration</th>\n",
              "      <th>fair_price_call</th>\n",
              "      <th>fair_price_put</th>\n",
              "      <th>call_is_u_p</th>\n",
              "      <th>put_is_u_p</th>\n",
              "      <th>call_delta</th>\n",
              "      <th>put_delta</th>\n",
              "      <th>delta_position</th>\n",
              "    </tr>\n",
              "  </thead>\n",
              "  <tbody>\n",
              "    <tr>\n",
              "      <th>20479</th>\n",
              "      <td>2020-11-11</td>\n",
              "      <td>207.33</td>\n",
              "      <td>2021-01-15</td>\n",
              "      <td>25.95</td>\n",
              "      <td>47</td>\n",
              "      <td>200.0</td>\n",
              "      <td>19.3</td>\n",
              "      <td>27</td>\n",
              "      <td>7.33</td>\n",
              "      <td>65</td>\n",
              "      <td>0.178082</td>\n",
              "      <td>27.353126</td>\n",
              "      <td>19.763295</td>\n",
              "      <td>True</td>\n",
              "      <td>True</td>\n",
              "      <td>0.607778</td>\n",
              "      <td>-0.392222</td>\n",
              "      <td>0.215556</td>\n",
              "    </tr>\n",
              "    <tr>\n",
              "      <th>20480</th>\n",
              "      <td>2020-11-11</td>\n",
              "      <td>207.33</td>\n",
              "      <td>2021-01-15</td>\n",
              "      <td>21.85</td>\n",
              "      <td>56</td>\n",
              "      <td>210.0</td>\n",
              "      <td>27.2</td>\n",
              "      <td>3</td>\n",
              "      <td>2.67</td>\n",
              "      <td>65</td>\n",
              "      <td>0.178082</td>\n",
              "      <td>22.758455</td>\n",
              "      <td>25.155632</td>\n",
              "      <td>True</td>\n",
              "      <td>False</td>\n",
              "      <td>0.541639</td>\n",
              "      <td>-0.458361</td>\n",
              "      <td>1.000000</td>\n",
              "    </tr>\n",
              "    <tr>\n",
              "      <th>20481</th>\n",
              "      <td>2020-11-11</td>\n",
              "      <td>207.33</td>\n",
              "      <td>2021-01-15</td>\n",
              "      <td>16.30</td>\n",
              "      <td>51</td>\n",
              "      <td>220.0</td>\n",
              "      <td>30.0</td>\n",
              "      <td>17</td>\n",
              "      <td>12.67</td>\n",
              "      <td>65</td>\n",
              "      <td>0.178082</td>\n",
              "      <td>18.808852</td>\n",
              "      <td>31.193038</td>\n",
              "      <td>True</td>\n",
              "      <td>True</td>\n",
              "      <td>0.477454</td>\n",
              "      <td>-0.522546</td>\n",
              "      <td>-0.045092</td>\n",
              "    </tr>\n",
              "  </tbody>\n",
              "</table>\n",
              "</div>"
            ],
            "text/plain": [
              "       tradedate  stockprice expiration  ...  call_delta  put_delta  delta_position\n",
              "20479 2020-11-11      207.33 2021-01-15  ...    0.607778  -0.392222        0.215556\n",
              "20480 2020-11-11      207.33 2021-01-15  ...    0.541639  -0.458361        1.000000\n",
              "20481 2020-11-11      207.33 2021-01-15  ...    0.477454  -0.522546       -0.045092\n",
              "\n",
              "[3 rows x 18 columns]"
            ]
          },
          "metadata": {
            "tags": []
          },
          "execution_count": 132
        }
      ]
    },
    {
      "cell_type": "code",
      "metadata": {
        "colab": {
          "base_uri": "https://localhost:8080/"
        },
        "id": "a2sFjZ62v_fv",
        "outputId": "6cc1b1cd-2069-48d7-869d-0abb596e2095"
      },
      "source": [
        "print('total delta position = ', sum(list(temp_trade.delta_position)))"
      ],
      "execution_count": 133,
      "outputs": [
        {
          "output_type": "stream",
          "text": [
            "total delta position =  1.1704640186515762\n"
          ],
          "name": "stdout"
        }
      ]
    },
    {
      "cell_type": "markdown",
      "metadata": {
        "id": "vPf9MDzm39Ek"
      },
      "source": [
        "## Liquidation Day 11/18 "
      ]
    },
    {
      "cell_type": "code",
      "metadata": {
        "colab": {
          "base_uri": "https://localhost:8080/",
          "height": 248
        },
        "id": "_HBEgPxc3369",
        "outputId": "5c47afec-d4a2-4e3f-b96d-01554d971c81"
      },
      "source": [
        "# first do it on the first trading date\n",
        "trading_day = strategy_revise_dates[2]\n",
        "trading_day_df_4 = data[(data['strike'].isin(list(trading_day_df.strike))) & (data.tradedate == trading_day)]\n",
        "trading_day_df_4.sort_values(by = 'strike',inplace=True)\n",
        "\n",
        "trading_day_df_4"
      ],
      "execution_count": 37,
      "outputs": [
        {
          "output_type": "stream",
          "text": [
            "/usr/local/lib/python3.6/dist-packages/ipykernel_launcher.py:4: SettingWithCopyWarning: \n",
            "A value is trying to be set on a copy of a slice from a DataFrame\n",
            "\n",
            "See the caveats in the documentation: https://pandas.pydata.org/pandas-docs/stable/user_guide/indexing.html#returning-a-view-versus-a-copy\n",
            "  after removing the cwd from sys.path.\n"
          ],
          "name": "stderr"
        },
        {
          "output_type": "execute_result",
          "data": {
            "text/html": [
              "<div>\n",
              "<style scoped>\n",
              "    .dataframe tbody tr th:only-of-type {\n",
              "        vertical-align: middle;\n",
              "    }\n",
              "\n",
              "    .dataframe tbody tr th {\n",
              "        vertical-align: top;\n",
              "    }\n",
              "\n",
              "    .dataframe thead th {\n",
              "        text-align: right;\n",
              "    }\n",
              "</style>\n",
              "<table border=\"1\" class=\"dataframe\">\n",
              "  <thead>\n",
              "    <tr style=\"text-align: right;\">\n",
              "      <th></th>\n",
              "      <th>tradedate</th>\n",
              "      <th>ticker</th>\n",
              "      <th>stockprice</th>\n",
              "      <th>expiration</th>\n",
              "      <th>lastpricecall</th>\n",
              "      <th>callvolume</th>\n",
              "      <th>callopeninterest</th>\n",
              "      <th>strike</th>\n",
              "      <th>lastpriceput</th>\n",
              "      <th>putvolume</th>\n",
              "      <th>putopeninterest</th>\n",
              "      <th>abs_strike_minus_stock</th>\n",
              "      <th>days_til_expiration</th>\n",
              "      <th>years_til_expiration</th>\n",
              "    </tr>\n",
              "  </thead>\n",
              "  <tbody>\n",
              "    <tr>\n",
              "      <th>23344</th>\n",
              "      <td>2020-11-18</td>\n",
              "      <td>CVNA</td>\n",
              "      <td>224.12</td>\n",
              "      <td>2021-01-15</td>\n",
              "      <td>38.85</td>\n",
              "      <td>51</td>\n",
              "      <td>583</td>\n",
              "      <td>200.0</td>\n",
              "      <td>12.05</td>\n",
              "      <td>12</td>\n",
              "      <td>658</td>\n",
              "      <td>24.12</td>\n",
              "      <td>58</td>\n",
              "      <td>0.158904</td>\n",
              "    </tr>\n",
              "    <tr>\n",
              "      <th>23345</th>\n",
              "      <td>2020-11-18</td>\n",
              "      <td>CVNA</td>\n",
              "      <td>224.12</td>\n",
              "      <td>2021-01-15</td>\n",
              "      <td>31.65</td>\n",
              "      <td>15</td>\n",
              "      <td>461</td>\n",
              "      <td>210.0</td>\n",
              "      <td>15.55</td>\n",
              "      <td>19</td>\n",
              "      <td>290</td>\n",
              "      <td>14.12</td>\n",
              "      <td>58</td>\n",
              "      <td>0.158904</td>\n",
              "    </tr>\n",
              "    <tr>\n",
              "      <th>23346</th>\n",
              "      <td>2020-11-18</td>\n",
              "      <td>CVNA</td>\n",
              "      <td>224.12</td>\n",
              "      <td>2021-01-15</td>\n",
              "      <td>24.80</td>\n",
              "      <td>11</td>\n",
              "      <td>2458</td>\n",
              "      <td>220.0</td>\n",
              "      <td>19.55</td>\n",
              "      <td>40</td>\n",
              "      <td>2212</td>\n",
              "      <td>4.12</td>\n",
              "      <td>58</td>\n",
              "      <td>0.158904</td>\n",
              "    </tr>\n",
              "  </tbody>\n",
              "</table>\n",
              "</div>"
            ],
            "text/plain": [
              "       tradedate ticker  ...  days_til_expiration years_til_expiration\n",
              "23344 2020-11-18   CVNA  ...                   58             0.158904\n",
              "23345 2020-11-18   CVNA  ...                   58             0.158904\n",
              "23346 2020-11-18   CVNA  ...                   58             0.158904\n",
              "\n",
              "[3 rows x 14 columns]"
            ]
          },
          "metadata": {
            "tags": []
          },
          "execution_count": 37
        }
      ]
    },
    {
      "cell_type": "code",
      "metadata": {
        "colab": {
          "base_uri": "https://localhost:8080/"
        },
        "id": "-sPKTy9F5HhY",
        "outputId": "b9345b19-49a2-43db-c175-2c9b98b908e0"
      },
      "source": [
        "datetime.datetime. strptime('18/11/20', '%d/%m/%y') - datetime.datetime. strptime('11/11/20', '%d/%m/%y')"
      ],
      "execution_count": 139,
      "outputs": [
        {
          "output_type": "execute_result",
          "data": {
            "text/plain": [
              "datetime.timedelta(7)"
            ]
          },
          "metadata": {
            "tags": []
          },
          "execution_count": 139
        }
      ]
    },
    {
      "cell_type": "code",
      "metadata": {
        "id": "EgGTMZDb5Yq4"
      },
      "source": [
        ""
      ],
      "execution_count": null,
      "outputs": []
    }
  ]
}